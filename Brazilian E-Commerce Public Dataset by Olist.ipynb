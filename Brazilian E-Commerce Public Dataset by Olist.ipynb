{
 "cells": [
  {
   "cell_type": "markdown",
   "id": "d0a7f29b",
   "metadata": {},
   "source": [
    "# Data card\n",
    "This dataset has information about the customer and its location. Use it to identify unique customers in the orders dataset and to find the orders delivery location.\n",
    "\n",
    "At our system each order is assigned to a unique customer_id. This means that the same customer will get different ids for different orders. The purpose of having a customer_unique_id on the dataset is to allow you to identify customers that made repurchases at the store. Otherwise you would find that each order had a different customer associated with.\n",
    "\n",
    "boleto(Payment_type) It is a push payment, which relies on the consumer to initiate the payment, similar to using a bank wire. When your customer is ready to pay the Boleto, they can take it to any location that processes this payment method, or they can have it processed online."
   ]
  },
  {
   "cell_type": "code",
   "execution_count": 63,
   "id": "12b3c40e",
   "metadata": {},
   "outputs": [],
   "source": [
    "import pandas as pd\n",
    "import numpy as np\n",
    "import matplotlib.pyplot as plt\n",
    "import seaborn as sns"
   ]
  },
  {
   "cell_type": "code",
   "execution_count": 64,
   "id": "d5bf7045",
   "metadata": {},
   "outputs": [],
   "source": [
    "orders = pd.read_csv(\"olist_orders_dataset.csv\")\n",
    "customers = pd.read_csv(\"olist_customers_dataset.csv\")\n",
    "products = pd.read_csv(\"olist_products_dataset.csv\")\n",
    "payments = pd.read_csv(\"olist_order_payments_dataset.csv\")\n",
    "geolocation = pd.read_csv(\"olist_geolocation_dataset.csv\")\n",
    "items = pd.read_csv(\"olist_order_items_dataset.csv\")\n",
    "order_reviews = pd.read_csv(\"olist_order_reviews_dataset.csv\")\n",
    "sellers = pd.read_csv(\"olist_sellers_dataset.csv\")\n",
    "category_translation = pd.read_csv(\"product_category_name_translation.csv\")"
   ]
  },
  {
   "cell_type": "code",
   "execution_count": 65,
   "id": "9a5d44bf",
   "metadata": {
    "scrolled": true
   },
   "outputs": [
    {
     "name": "stdout",
     "output_type": "stream",
     "text": [
      "<class 'pandas.core.frame.DataFrame'>\n",
      "RangeIndex: 99441 entries, 0 to 99440\n",
      "Data columns (total 8 columns):\n",
      " #   Column                         Non-Null Count  Dtype \n",
      "---  ------                         --------------  ----- \n",
      " 0   order_id                       99441 non-null  object\n",
      " 1   customer_id                    99441 non-null  object\n",
      " 2   order_status                   99441 non-null  object\n",
      " 3   order_purchase_timestamp       99441 non-null  object\n",
      " 4   order_approved_at              99281 non-null  object\n",
      " 5   order_delivered_carrier_date   97658 non-null  object\n",
      " 6   order_delivered_customer_date  96476 non-null  object\n",
      " 7   order_estimated_delivery_date  99441 non-null  object\n",
      "dtypes: object(8)\n",
      "memory usage: 6.1+ MB\n",
      "None\n",
      "\n",
      "<class 'pandas.core.frame.DataFrame'>\n",
      "RangeIndex: 99441 entries, 0 to 99440\n",
      "Data columns (total 5 columns):\n",
      " #   Column                    Non-Null Count  Dtype \n",
      "---  ------                    --------------  ----- \n",
      " 0   customer_id               99441 non-null  object\n",
      " 1   customer_unique_id        99441 non-null  object\n",
      " 2   customer_zip_code_prefix  99441 non-null  int64 \n",
      " 3   customer_city             99441 non-null  object\n",
      " 4   customer_state            99441 non-null  object\n",
      "dtypes: int64(1), object(4)\n",
      "memory usage: 3.8+ MB\n",
      "None\n"
     ]
    }
   ],
   "source": [
    "print(orders.info())\n",
    "print()\n",
    "print(customers.info())"
   ]
  },
  {
   "cell_type": "code",
   "execution_count": 66,
   "id": "e9f430b6",
   "metadata": {},
   "outputs": [
    {
     "data": {
      "text/plain": [
       "99441"
      ]
     },
     "execution_count": 66,
     "metadata": {},
     "output_type": "execute_result"
    }
   ],
   "source": [
    "orders['order_id'].nunique()"
   ]
  },
  {
   "cell_type": "code",
   "execution_count": 67,
   "id": "15379596",
   "metadata": {},
   "outputs": [
    {
     "data": {
      "text/plain": [
       "order_status\n",
       "delivered      96478\n",
       "shipped         1107\n",
       "canceled         625\n",
       "unavailable      609\n",
       "invoiced         314\n",
       "processing       301\n",
       "created            5\n",
       "approved           2\n",
       "Name: count, dtype: int64"
      ]
     },
     "execution_count": 67,
     "metadata": {},
     "output_type": "execute_result"
    }
   ],
   "source": [
    "orders['order_status'].value_counts(dropna= False)"
   ]
  },
  {
   "cell_type": "code",
   "execution_count": 68,
   "id": "46d01ac4",
   "metadata": {},
   "outputs": [
    {
     "data": {
      "text/html": [
       "<div>\n",
       "<style scoped>\n",
       "    .dataframe tbody tr th:only-of-type {\n",
       "        vertical-align: middle;\n",
       "    }\n",
       "\n",
       "    .dataframe tbody tr th {\n",
       "        vertical-align: top;\n",
       "    }\n",
       "\n",
       "    .dataframe thead th {\n",
       "        text-align: right;\n",
       "    }\n",
       "</style>\n",
       "<table border=\"1\" class=\"dataframe\">\n",
       "  <thead>\n",
       "    <tr style=\"text-align: right;\">\n",
       "      <th></th>\n",
       "      <th>order_id</th>\n",
       "      <th>customer_id</th>\n",
       "      <th>order_status</th>\n",
       "      <th>order_purchase_timestamp</th>\n",
       "      <th>order_approved_at</th>\n",
       "      <th>order_delivered_carrier_date</th>\n",
       "      <th>order_delivered_customer_date</th>\n",
       "      <th>order_estimated_delivery_date</th>\n",
       "    </tr>\n",
       "  </thead>\n",
       "  <tbody>\n",
       "    <tr>\n",
       "      <th>0</th>\n",
       "      <td>e481f51cbdc54678b7cc49136f2d6af7</td>\n",
       "      <td>9ef432eb6251297304e76186b10a928d</td>\n",
       "      <td>delivered</td>\n",
       "      <td>2017-10-02 10:56:33</td>\n",
       "      <td>2017-10-02 11:07:15</td>\n",
       "      <td>2017-10-04 19:55:00</td>\n",
       "      <td>2017-10-10 21:25:13</td>\n",
       "      <td>2017-10-18 00:00:00</td>\n",
       "    </tr>\n",
       "    <tr>\n",
       "      <th>1</th>\n",
       "      <td>53cdb2fc8bc7dce0b6741e2150273451</td>\n",
       "      <td>b0830fb4747a6c6d20dea0b8c802d7ef</td>\n",
       "      <td>delivered</td>\n",
       "      <td>2018-07-24 20:41:37</td>\n",
       "      <td>2018-07-26 03:24:27</td>\n",
       "      <td>2018-07-26 14:31:00</td>\n",
       "      <td>2018-08-07 15:27:45</td>\n",
       "      <td>2018-08-13 00:00:00</td>\n",
       "    </tr>\n",
       "    <tr>\n",
       "      <th>2</th>\n",
       "      <td>47770eb9100c2d0c44946d9cf07ec65d</td>\n",
       "      <td>41ce2a54c0b03bf3443c3d931a367089</td>\n",
       "      <td>delivered</td>\n",
       "      <td>2018-08-08 08:38:49</td>\n",
       "      <td>2018-08-08 08:55:23</td>\n",
       "      <td>2018-08-08 13:50:00</td>\n",
       "      <td>2018-08-17 18:06:29</td>\n",
       "      <td>2018-09-04 00:00:00</td>\n",
       "    </tr>\n",
       "    <tr>\n",
       "      <th>3</th>\n",
       "      <td>949d5b44dbf5de918fe9c16f97b45f8a</td>\n",
       "      <td>f88197465ea7920adcdbec7375364d82</td>\n",
       "      <td>delivered</td>\n",
       "      <td>2017-11-18 19:28:06</td>\n",
       "      <td>2017-11-18 19:45:59</td>\n",
       "      <td>2017-11-22 13:39:59</td>\n",
       "      <td>2017-12-02 00:28:42</td>\n",
       "      <td>2017-12-15 00:00:00</td>\n",
       "    </tr>\n",
       "    <tr>\n",
       "      <th>4</th>\n",
       "      <td>ad21c59c0840e6cb83a9ceb5573f8159</td>\n",
       "      <td>8ab97904e6daea8866dbdbc4fb7aad2c</td>\n",
       "      <td>delivered</td>\n",
       "      <td>2018-02-13 21:18:39</td>\n",
       "      <td>2018-02-13 22:20:29</td>\n",
       "      <td>2018-02-14 19:46:34</td>\n",
       "      <td>2018-02-16 18:17:02</td>\n",
       "      <td>2018-02-26 00:00:00</td>\n",
       "    </tr>\n",
       "  </tbody>\n",
       "</table>\n",
       "</div>"
      ],
      "text/plain": [
       "                           order_id                       customer_id  \\\n",
       "0  e481f51cbdc54678b7cc49136f2d6af7  9ef432eb6251297304e76186b10a928d   \n",
       "1  53cdb2fc8bc7dce0b6741e2150273451  b0830fb4747a6c6d20dea0b8c802d7ef   \n",
       "2  47770eb9100c2d0c44946d9cf07ec65d  41ce2a54c0b03bf3443c3d931a367089   \n",
       "3  949d5b44dbf5de918fe9c16f97b45f8a  f88197465ea7920adcdbec7375364d82   \n",
       "4  ad21c59c0840e6cb83a9ceb5573f8159  8ab97904e6daea8866dbdbc4fb7aad2c   \n",
       "\n",
       "  order_status order_purchase_timestamp    order_approved_at  \\\n",
       "0    delivered      2017-10-02 10:56:33  2017-10-02 11:07:15   \n",
       "1    delivered      2018-07-24 20:41:37  2018-07-26 03:24:27   \n",
       "2    delivered      2018-08-08 08:38:49  2018-08-08 08:55:23   \n",
       "3    delivered      2017-11-18 19:28:06  2017-11-18 19:45:59   \n",
       "4    delivered      2018-02-13 21:18:39  2018-02-13 22:20:29   \n",
       "\n",
       "  order_delivered_carrier_date order_delivered_customer_date  \\\n",
       "0          2017-10-04 19:55:00           2017-10-10 21:25:13   \n",
       "1          2018-07-26 14:31:00           2018-08-07 15:27:45   \n",
       "2          2018-08-08 13:50:00           2018-08-17 18:06:29   \n",
       "3          2017-11-22 13:39:59           2017-12-02 00:28:42   \n",
       "4          2018-02-14 19:46:34           2018-02-16 18:17:02   \n",
       "\n",
       "  order_estimated_delivery_date  \n",
       "0           2017-10-18 00:00:00  \n",
       "1           2018-08-13 00:00:00  \n",
       "2           2018-09-04 00:00:00  \n",
       "3           2017-12-15 00:00:00  \n",
       "4           2018-02-26 00:00:00  "
      ]
     },
     "execution_count": 68,
     "metadata": {},
     "output_type": "execute_result"
    }
   ],
   "source": [
    "# Take only the ones where status equals 'delivered.\n",
    "orders_df = orders[orders['order_status'] == 'delivered']\n",
    "orders_df.head()"
   ]
  },
  {
   "cell_type": "code",
   "execution_count": 69,
   "id": "e3a4824b",
   "metadata": {},
   "outputs": [
    {
     "name": "stdout",
     "output_type": "stream",
     "text": [
      "<class 'pandas.core.frame.DataFrame'>\n",
      "RangeIndex: 99441 entries, 0 to 99440\n",
      "Data columns (total 5 columns):\n",
      " #   Column                    Non-Null Count  Dtype \n",
      "---  ------                    --------------  ----- \n",
      " 0   customer_id               99441 non-null  object\n",
      " 1   customer_unique_id        99441 non-null  object\n",
      " 2   customer_zip_code_prefix  99441 non-null  int64 \n",
      " 3   customer_city             99441 non-null  object\n",
      " 4   customer_state            99441 non-null  object\n",
      "dtypes: int64(1), object(4)\n",
      "memory usage: 3.8+ MB\n"
     ]
    }
   ],
   "source": [
    "customers.info()"
   ]
  },
  {
   "cell_type": "code",
   "execution_count": 70,
   "id": "6a0b02af",
   "metadata": {},
   "outputs": [],
   "source": [
    "# Merge oreders and customers data\n",
    "orders_customers_df = orders_df.merge(customers, on='customer_id')"
   ]
  },
  {
   "cell_type": "code",
   "execution_count": 71,
   "id": "41e4e161",
   "metadata": {},
   "outputs": [
    {
     "data": {
      "text/plain": [
       "order_id                          0\n",
       "customer_id                       0\n",
       "order_status                      0\n",
       "order_purchase_timestamp          0\n",
       "order_approved_at                14\n",
       "order_delivered_carrier_date      2\n",
       "order_delivered_customer_date     8\n",
       "order_estimated_delivery_date     0\n",
       "customer_unique_id                0\n",
       "customer_zip_code_prefix          0\n",
       "customer_city                     0\n",
       "customer_state                    0\n",
       "dtype: int64"
      ]
     },
     "execution_count": 71,
     "metadata": {},
     "output_type": "execute_result"
    }
   ],
   "source": [
    "orders_customers_df.isna().sum()"
   ]
  },
  {
   "cell_type": "code",
   "execution_count": 72,
   "id": "3d6c7987",
   "metadata": {
    "scrolled": true
   },
   "outputs": [
    {
     "data": {
      "text/html": [
       "<div>\n",
       "<style scoped>\n",
       "    .dataframe tbody tr th:only-of-type {\n",
       "        vertical-align: middle;\n",
       "    }\n",
       "\n",
       "    .dataframe tbody tr th {\n",
       "        vertical-align: top;\n",
       "    }\n",
       "\n",
       "    .dataframe thead th {\n",
       "        text-align: right;\n",
       "    }\n",
       "</style>\n",
       "<table border=\"1\" class=\"dataframe\">\n",
       "  <thead>\n",
       "    <tr style=\"text-align: right;\">\n",
       "      <th></th>\n",
       "      <th>order_id</th>\n",
       "      <th>customer_id</th>\n",
       "      <th>order_status</th>\n",
       "      <th>order_purchase_timestamp</th>\n",
       "      <th>order_approved_at</th>\n",
       "      <th>order_delivered_carrier_date</th>\n",
       "      <th>order_delivered_customer_date</th>\n",
       "      <th>order_estimated_delivery_date</th>\n",
       "      <th>customer_unique_id</th>\n",
       "      <th>customer_zip_code_prefix</th>\n",
       "      <th>customer_city</th>\n",
       "      <th>customer_state</th>\n",
       "    </tr>\n",
       "  </thead>\n",
       "  <tbody>\n",
       "    <tr>\n",
       "      <th>5171</th>\n",
       "      <td>e04abd8149ef81b95221e88f6ed9ab6a</td>\n",
       "      <td>2127dc6603ac33544953ef05ec155771</td>\n",
       "      <td>delivered</td>\n",
       "      <td>2017-02-18 14:40:00</td>\n",
       "      <td>NaN</td>\n",
       "      <td>2017-02-23 12:04:47</td>\n",
       "      <td>2017-03-01 13:25:33</td>\n",
       "      <td>2017-03-17 00:00:00</td>\n",
       "      <td>8a9a08c7ca8900a200d83cf838a07e0b</td>\n",
       "      <td>6708</td>\n",
       "      <td>cotia</td>\n",
       "      <td>SP</td>\n",
       "    </tr>\n",
       "    <tr>\n",
       "      <th>16098</th>\n",
       "      <td>8a9adc69528e1001fc68dd0aaebbb54a</td>\n",
       "      <td>4c1ccc74e00993733742a3c786dc3c1f</td>\n",
       "      <td>delivered</td>\n",
       "      <td>2017-02-18 12:45:31</td>\n",
       "      <td>NaN</td>\n",
       "      <td>2017-02-23 09:01:52</td>\n",
       "      <td>2017-03-02 10:05:06</td>\n",
       "      <td>2017-03-21 00:00:00</td>\n",
       "      <td>91efb7fcabc17925099dced52435837f</td>\n",
       "      <td>93548</td>\n",
       "      <td>novo hamburgo</td>\n",
       "      <td>RS</td>\n",
       "    </tr>\n",
       "    <tr>\n",
       "      <th>18494</th>\n",
       "      <td>7013bcfc1c97fe719a7b5e05e61c12db</td>\n",
       "      <td>2941af76d38100e0f8740a374f1a5dc3</td>\n",
       "      <td>delivered</td>\n",
       "      <td>2017-02-18 13:29:47</td>\n",
       "      <td>NaN</td>\n",
       "      <td>2017-02-22 16:25:25</td>\n",
       "      <td>2017-03-01 08:07:38</td>\n",
       "      <td>2017-03-17 00:00:00</td>\n",
       "      <td>e1f01a1bd6485e58ad3c769a5427d8a8</td>\n",
       "      <td>8230</td>\n",
       "      <td>sao paulo</td>\n",
       "      <td>SP</td>\n",
       "    </tr>\n",
       "    <tr>\n",
       "      <th>21999</th>\n",
       "      <td>5cf925b116421afa85ee25e99b4c34fb</td>\n",
       "      <td>29c35fc91fc13fb5073c8f30505d860d</td>\n",
       "      <td>delivered</td>\n",
       "      <td>2017-02-18 16:48:35</td>\n",
       "      <td>NaN</td>\n",
       "      <td>2017-02-22 11:23:10</td>\n",
       "      <td>2017-03-09 07:28:47</td>\n",
       "      <td>2017-03-31 00:00:00</td>\n",
       "      <td>7e1a5ca61b572d76b64b6688b9f96473</td>\n",
       "      <td>62700</td>\n",
       "      <td>caninde</td>\n",
       "      <td>CE</td>\n",
       "    </tr>\n",
       "    <tr>\n",
       "      <th>22478</th>\n",
       "      <td>12a95a3c06dbaec84bcfb0e2da5d228a</td>\n",
       "      <td>1e101e0daffaddce8159d25a8e53f2b2</td>\n",
       "      <td>delivered</td>\n",
       "      <td>2017-02-17 13:05:55</td>\n",
       "      <td>NaN</td>\n",
       "      <td>2017-02-22 11:23:11</td>\n",
       "      <td>2017-03-02 11:09:19</td>\n",
       "      <td>2017-03-20 00:00:00</td>\n",
       "      <td>c8822fce1d0bfa7ddf0da24fff947172</td>\n",
       "      <td>27945</td>\n",
       "      <td>macae</td>\n",
       "      <td>RJ</td>\n",
       "    </tr>\n",
       "    <tr>\n",
       "      <th>26014</th>\n",
       "      <td>c1d4211b3dae76144deccd6c74144a88</td>\n",
       "      <td>684cb238dc5b5d6366244e0e0776b450</td>\n",
       "      <td>delivered</td>\n",
       "      <td>2017-01-19 12:48:08</td>\n",
       "      <td>NaN</td>\n",
       "      <td>2017-01-25 14:56:50</td>\n",
       "      <td>2017-01-30 18:16:01</td>\n",
       "      <td>2017-03-01 00:00:00</td>\n",
       "      <td>6ff8b0d7b35d5c945633b8d60165691b</td>\n",
       "      <td>11030</td>\n",
       "      <td>santos</td>\n",
       "      <td>SP</td>\n",
       "    </tr>\n",
       "    <tr>\n",
       "      <th>37158</th>\n",
       "      <td>d69e5d356402adc8cf17e08b5033acfb</td>\n",
       "      <td>68d081753ad4fe22fc4d410a9eb1ca01</td>\n",
       "      <td>delivered</td>\n",
       "      <td>2017-02-19 01:28:47</td>\n",
       "      <td>NaN</td>\n",
       "      <td>2017-02-23 03:11:48</td>\n",
       "      <td>2017-03-02 03:41:58</td>\n",
       "      <td>2017-03-27 00:00:00</td>\n",
       "      <td>2e0a2166aa23da2472c6a60c4af6f7a6</td>\n",
       "      <td>3573</td>\n",
       "      <td>sao paulo</td>\n",
       "      <td>SP</td>\n",
       "    </tr>\n",
       "    <tr>\n",
       "      <th>38171</th>\n",
       "      <td>d77031d6a3c8a52f019764e68f211c69</td>\n",
       "      <td>0bf35cac6cc7327065da879e2d90fae8</td>\n",
       "      <td>delivered</td>\n",
       "      <td>2017-02-18 11:04:19</td>\n",
       "      <td>NaN</td>\n",
       "      <td>2017-02-23 07:23:36</td>\n",
       "      <td>2017-03-02 16:15:23</td>\n",
       "      <td>2017-03-22 00:00:00</td>\n",
       "      <td>c4c0011e639bdbcf26059ddc38bd3c18</td>\n",
       "      <td>13225</td>\n",
       "      <td>varzea paulista</td>\n",
       "      <td>SP</td>\n",
       "    </tr>\n",
       "    <tr>\n",
       "      <th>46957</th>\n",
       "      <td>7002a78c79c519ac54022d4f8a65e6e8</td>\n",
       "      <td>d5de688c321096d15508faae67a27051</td>\n",
       "      <td>delivered</td>\n",
       "      <td>2017-01-19 22:26:59</td>\n",
       "      <td>NaN</td>\n",
       "      <td>2017-01-27 11:08:05</td>\n",
       "      <td>2017-02-06 14:22:19</td>\n",
       "      <td>2017-03-16 00:00:00</td>\n",
       "      <td>d49f3dae6bad25d05160fc17aca5942d</td>\n",
       "      <td>36400</td>\n",
       "      <td>conselheiro lafaiete</td>\n",
       "      <td>MG</td>\n",
       "    </tr>\n",
       "    <tr>\n",
       "      <th>59912</th>\n",
       "      <td>2eecb0d85f281280f79fa00f9cec1a95</td>\n",
       "      <td>a3d3c38e58b9d2dfb9207cab690b6310</td>\n",
       "      <td>delivered</td>\n",
       "      <td>2017-02-17 17:21:55</td>\n",
       "      <td>NaN</td>\n",
       "      <td>2017-02-22 11:42:51</td>\n",
       "      <td>2017-03-03 12:16:03</td>\n",
       "      <td>2017-03-20 00:00:00</td>\n",
       "      <td>5a4fa4919cbf2b049e72be460a380e5b</td>\n",
       "      <td>35620</td>\n",
       "      <td>abaete</td>\n",
       "      <td>MG</td>\n",
       "    </tr>\n",
       "    <tr>\n",
       "      <th>61162</th>\n",
       "      <td>51eb2eebd5d76a24625b31c33dd41449</td>\n",
       "      <td>07a2a7e0f63fd8cb757ed77d4245623c</td>\n",
       "      <td>delivered</td>\n",
       "      <td>2017-02-18 15:52:27</td>\n",
       "      <td>NaN</td>\n",
       "      <td>2017-02-23 03:09:14</td>\n",
       "      <td>2017-03-07 13:57:47</td>\n",
       "      <td>2017-03-29 00:00:00</td>\n",
       "      <td>79af1bbf230a2630487975aa5d7d6220</td>\n",
       "      <td>37660</td>\n",
       "      <td>paraisopolis</td>\n",
       "      <td>MG</td>\n",
       "    </tr>\n",
       "    <tr>\n",
       "      <th>65678</th>\n",
       "      <td>88083e8f64d95b932164187484d90212</td>\n",
       "      <td>f67cd1a215aae2a1074638bbd35a223a</td>\n",
       "      <td>delivered</td>\n",
       "      <td>2017-02-18 22:49:19</td>\n",
       "      <td>NaN</td>\n",
       "      <td>2017-02-22 11:31:06</td>\n",
       "      <td>2017-03-02 12:06:06</td>\n",
       "      <td>2017-03-21 00:00:00</td>\n",
       "      <td>bc1896dc77f49e6dec880445a9b443a3</td>\n",
       "      <td>21020</td>\n",
       "      <td>rio de janeiro</td>\n",
       "      <td>RJ</td>\n",
       "    </tr>\n",
       "    <tr>\n",
       "      <th>70259</th>\n",
       "      <td>3c0b8706b065f9919d0505d3b3343881</td>\n",
       "      <td>d85919cb3c0529589c6fa617f5f43281</td>\n",
       "      <td>delivered</td>\n",
       "      <td>2017-02-17 15:53:27</td>\n",
       "      <td>NaN</td>\n",
       "      <td>2017-02-22 11:31:30</td>\n",
       "      <td>2017-03-03 11:47:47</td>\n",
       "      <td>2017-03-23 00:00:00</td>\n",
       "      <td>c094ac95fcd52f821809ec232a7a6956</td>\n",
       "      <td>95795</td>\n",
       "      <td>sao vendelino</td>\n",
       "      <td>RS</td>\n",
       "    </tr>\n",
       "    <tr>\n",
       "      <th>82453</th>\n",
       "      <td>2babbb4b15e6d2dfe95e2de765c97bce</td>\n",
       "      <td>74bebaf46603f9340e3b50c6b086f992</td>\n",
       "      <td>delivered</td>\n",
       "      <td>2017-02-18 17:15:03</td>\n",
       "      <td>NaN</td>\n",
       "      <td>2017-02-22 11:23:11</td>\n",
       "      <td>2017-03-03 18:43:43</td>\n",
       "      <td>2017-03-31 00:00:00</td>\n",
       "      <td>f79be7c08dd24b72d34634f1b89333a4</td>\n",
       "      <td>65110</td>\n",
       "      <td>sao jose de ribamar</td>\n",
       "      <td>MA</td>\n",
       "    </tr>\n",
       "  </tbody>\n",
       "</table>\n",
       "</div>"
      ],
      "text/plain": [
       "                               order_id                       customer_id  \\\n",
       "5171   e04abd8149ef81b95221e88f6ed9ab6a  2127dc6603ac33544953ef05ec155771   \n",
       "16098  8a9adc69528e1001fc68dd0aaebbb54a  4c1ccc74e00993733742a3c786dc3c1f   \n",
       "18494  7013bcfc1c97fe719a7b5e05e61c12db  2941af76d38100e0f8740a374f1a5dc3   \n",
       "21999  5cf925b116421afa85ee25e99b4c34fb  29c35fc91fc13fb5073c8f30505d860d   \n",
       "22478  12a95a3c06dbaec84bcfb0e2da5d228a  1e101e0daffaddce8159d25a8e53f2b2   \n",
       "26014  c1d4211b3dae76144deccd6c74144a88  684cb238dc5b5d6366244e0e0776b450   \n",
       "37158  d69e5d356402adc8cf17e08b5033acfb  68d081753ad4fe22fc4d410a9eb1ca01   \n",
       "38171  d77031d6a3c8a52f019764e68f211c69  0bf35cac6cc7327065da879e2d90fae8   \n",
       "46957  7002a78c79c519ac54022d4f8a65e6e8  d5de688c321096d15508faae67a27051   \n",
       "59912  2eecb0d85f281280f79fa00f9cec1a95  a3d3c38e58b9d2dfb9207cab690b6310   \n",
       "61162  51eb2eebd5d76a24625b31c33dd41449  07a2a7e0f63fd8cb757ed77d4245623c   \n",
       "65678  88083e8f64d95b932164187484d90212  f67cd1a215aae2a1074638bbd35a223a   \n",
       "70259  3c0b8706b065f9919d0505d3b3343881  d85919cb3c0529589c6fa617f5f43281   \n",
       "82453  2babbb4b15e6d2dfe95e2de765c97bce  74bebaf46603f9340e3b50c6b086f992   \n",
       "\n",
       "      order_status order_purchase_timestamp order_approved_at  \\\n",
       "5171     delivered      2017-02-18 14:40:00               NaN   \n",
       "16098    delivered      2017-02-18 12:45:31               NaN   \n",
       "18494    delivered      2017-02-18 13:29:47               NaN   \n",
       "21999    delivered      2017-02-18 16:48:35               NaN   \n",
       "22478    delivered      2017-02-17 13:05:55               NaN   \n",
       "26014    delivered      2017-01-19 12:48:08               NaN   \n",
       "37158    delivered      2017-02-19 01:28:47               NaN   \n",
       "38171    delivered      2017-02-18 11:04:19               NaN   \n",
       "46957    delivered      2017-01-19 22:26:59               NaN   \n",
       "59912    delivered      2017-02-17 17:21:55               NaN   \n",
       "61162    delivered      2017-02-18 15:52:27               NaN   \n",
       "65678    delivered      2017-02-18 22:49:19               NaN   \n",
       "70259    delivered      2017-02-17 15:53:27               NaN   \n",
       "82453    delivered      2017-02-18 17:15:03               NaN   \n",
       "\n",
       "      order_delivered_carrier_date order_delivered_customer_date  \\\n",
       "5171           2017-02-23 12:04:47           2017-03-01 13:25:33   \n",
       "16098          2017-02-23 09:01:52           2017-03-02 10:05:06   \n",
       "18494          2017-02-22 16:25:25           2017-03-01 08:07:38   \n",
       "21999          2017-02-22 11:23:10           2017-03-09 07:28:47   \n",
       "22478          2017-02-22 11:23:11           2017-03-02 11:09:19   \n",
       "26014          2017-01-25 14:56:50           2017-01-30 18:16:01   \n",
       "37158          2017-02-23 03:11:48           2017-03-02 03:41:58   \n",
       "38171          2017-02-23 07:23:36           2017-03-02 16:15:23   \n",
       "46957          2017-01-27 11:08:05           2017-02-06 14:22:19   \n",
       "59912          2017-02-22 11:42:51           2017-03-03 12:16:03   \n",
       "61162          2017-02-23 03:09:14           2017-03-07 13:57:47   \n",
       "65678          2017-02-22 11:31:06           2017-03-02 12:06:06   \n",
       "70259          2017-02-22 11:31:30           2017-03-03 11:47:47   \n",
       "82453          2017-02-22 11:23:11           2017-03-03 18:43:43   \n",
       "\n",
       "      order_estimated_delivery_date                customer_unique_id  \\\n",
       "5171            2017-03-17 00:00:00  8a9a08c7ca8900a200d83cf838a07e0b   \n",
       "16098           2017-03-21 00:00:00  91efb7fcabc17925099dced52435837f   \n",
       "18494           2017-03-17 00:00:00  e1f01a1bd6485e58ad3c769a5427d8a8   \n",
       "21999           2017-03-31 00:00:00  7e1a5ca61b572d76b64b6688b9f96473   \n",
       "22478           2017-03-20 00:00:00  c8822fce1d0bfa7ddf0da24fff947172   \n",
       "26014           2017-03-01 00:00:00  6ff8b0d7b35d5c945633b8d60165691b   \n",
       "37158           2017-03-27 00:00:00  2e0a2166aa23da2472c6a60c4af6f7a6   \n",
       "38171           2017-03-22 00:00:00  c4c0011e639bdbcf26059ddc38bd3c18   \n",
       "46957           2017-03-16 00:00:00  d49f3dae6bad25d05160fc17aca5942d   \n",
       "59912           2017-03-20 00:00:00  5a4fa4919cbf2b049e72be460a380e5b   \n",
       "61162           2017-03-29 00:00:00  79af1bbf230a2630487975aa5d7d6220   \n",
       "65678           2017-03-21 00:00:00  bc1896dc77f49e6dec880445a9b443a3   \n",
       "70259           2017-03-23 00:00:00  c094ac95fcd52f821809ec232a7a6956   \n",
       "82453           2017-03-31 00:00:00  f79be7c08dd24b72d34634f1b89333a4   \n",
       "\n",
       "       customer_zip_code_prefix         customer_city customer_state  \n",
       "5171                       6708                 cotia             SP  \n",
       "16098                     93548         novo hamburgo             RS  \n",
       "18494                      8230             sao paulo             SP  \n",
       "21999                     62700               caninde             CE  \n",
       "22478                     27945                 macae             RJ  \n",
       "26014                     11030                santos             SP  \n",
       "37158                      3573             sao paulo             SP  \n",
       "38171                     13225       varzea paulista             SP  \n",
       "46957                     36400  conselheiro lafaiete             MG  \n",
       "59912                     35620                abaete             MG  \n",
       "61162                     37660          paraisopolis             MG  \n",
       "65678                     21020        rio de janeiro             RJ  \n",
       "70259                     95795         sao vendelino             RS  \n",
       "82453                     65110   sao jose de ribamar             MA  "
      ]
     },
     "execution_count": 72,
     "metadata": {},
     "output_type": "execute_result"
    }
   ],
   "source": [
    "orders_customers_df[orders_customers_df['order_approved_at'].isna()]"
   ]
  },
  {
   "cell_type": "markdown",
   "id": "95e1bbf3",
   "metadata": {},
   "source": [
    "The data has some empty values in the 'order_approved_at' column. It looks like the orders were delivered. Later, we can check the sellers for those orders if needed.\n",
    "\n",
    "We can also check the empty values in the 'order_delivered_customer_date' column later and look into the seller as well if needed."
   ]
  },
  {
   "cell_type": "code",
   "execution_count": 73,
   "id": "92f3b8b6",
   "metadata": {},
   "outputs": [],
   "source": [
    "columns = ['customer_zip_code_prefix','customer_city','order_approved_at','order_status']\n",
    "orders_customers_df = orders_customers_df.drop(columns, axis=1)"
   ]
  },
  {
   "cell_type": "code",
   "execution_count": 74,
   "id": "a659611f",
   "metadata": {},
   "outputs": [
    {
     "name": "stdout",
     "output_type": "stream",
     "text": [
      "<class 'pandas.core.frame.DataFrame'>\n",
      "RangeIndex: 103886 entries, 0 to 103885\n",
      "Data columns (total 5 columns):\n",
      " #   Column                Non-Null Count   Dtype  \n",
      "---  ------                --------------   -----  \n",
      " 0   order_id              103886 non-null  object \n",
      " 1   payment_sequential    103886 non-null  int64  \n",
      " 2   payment_type          103886 non-null  object \n",
      " 3   payment_installments  103886 non-null  int64  \n",
      " 4   payment_value         103886 non-null  float64\n",
      "dtypes: float64(1), int64(2), object(2)\n",
      "memory usage: 4.0+ MB\n"
     ]
    }
   ],
   "source": [
    "payments.info()"
   ]
  },
  {
   "cell_type": "code",
   "execution_count": 75,
   "id": "eee1fa5d",
   "metadata": {},
   "outputs": [
    {
     "data": {
      "text/plain": [
       "99440"
      ]
     },
     "execution_count": 75,
     "metadata": {},
     "output_type": "execute_result"
    }
   ],
   "source": [
    "payments['order_id'].nunique()"
   ]
  },
  {
   "cell_type": "code",
   "execution_count": 76,
   "id": "f3001d1a",
   "metadata": {},
   "outputs": [],
   "source": [
    "# Aggregate the payments table by the 'order_id' column.\n",
    "payments = payments.groupby('order_id').agg({\n",
    "    'payment_type': lambda x: ', '.join(sorted(set(x))),  # Join unique payment methods into a string\n",
    "    'payment_value': 'sum',  # Total order value\n",
    "    'payment_installments': 'max',\n",
    "    'payment_sequential' : 'sum'\n",
    "}).reset_index()"
   ]
  },
  {
   "cell_type": "code",
   "execution_count": 77,
   "id": "93ccd041",
   "metadata": {},
   "outputs": [
    {
     "name": "stdout",
     "output_type": "stream",
     "text": [
      "<class 'pandas.core.frame.DataFrame'>\n",
      "RangeIndex: 99440 entries, 0 to 99439\n",
      "Data columns (total 5 columns):\n",
      " #   Column                Non-Null Count  Dtype  \n",
      "---  ------                --------------  -----  \n",
      " 0   order_id              99440 non-null  object \n",
      " 1   payment_type          99440 non-null  object \n",
      " 2   payment_value         99440 non-null  float64\n",
      " 3   payment_installments  99440 non-null  int64  \n",
      " 4   payment_sequential    99440 non-null  int64  \n",
      "dtypes: float64(1), int64(2), object(2)\n",
      "memory usage: 3.8+ MB\n"
     ]
    }
   ],
   "source": [
    "payments.info()"
   ]
  },
  {
   "cell_type": "code",
   "execution_count": 78,
   "id": "818eea95",
   "metadata": {},
   "outputs": [],
   "source": [
    "# Merge the order_customer dataset with the payment dataset.\n",
    "order_customer_payment = orders_customers_df.merge(payments, on='order_id')"
   ]
  },
  {
   "cell_type": "code",
   "execution_count": 79,
   "id": "aa9f0319",
   "metadata": {},
   "outputs": [
    {
     "name": "stdout",
     "output_type": "stream",
     "text": [
      "<class 'pandas.core.frame.DataFrame'>\n",
      "RangeIndex: 96477 entries, 0 to 96476\n",
      "Data columns (total 12 columns):\n",
      " #   Column                         Non-Null Count  Dtype  \n",
      "---  ------                         --------------  -----  \n",
      " 0   order_id                       96477 non-null  object \n",
      " 1   customer_id                    96477 non-null  object \n",
      " 2   order_purchase_timestamp       96477 non-null  object \n",
      " 3   order_delivered_carrier_date   96475 non-null  object \n",
      " 4   order_delivered_customer_date  96469 non-null  object \n",
      " 5   order_estimated_delivery_date  96477 non-null  object \n",
      " 6   customer_unique_id             96477 non-null  object \n",
      " 7   customer_state                 96477 non-null  object \n",
      " 8   payment_type                   96477 non-null  object \n",
      " 9   payment_value                  96477 non-null  float64\n",
      " 10  payment_installments           96477 non-null  int64  \n",
      " 11  payment_sequential             96477 non-null  int64  \n",
      "dtypes: float64(1), int64(2), object(9)\n",
      "memory usage: 8.8+ MB\n"
     ]
    }
   ],
   "source": [
    "order_customer_payment.info()"
   ]
  },
  {
   "cell_type": "code",
   "execution_count": 80,
   "id": "32646d75",
   "metadata": {},
   "outputs": [
    {
     "data": {
      "text/plain": [
       "96477"
      ]
     },
     "execution_count": 80,
     "metadata": {},
     "output_type": "execute_result"
    }
   ],
   "source": [
    "order_customer_payment['order_id'].nunique()"
   ]
  },
  {
   "cell_type": "markdown",
   "id": "988e6819",
   "metadata": {},
   "source": [
    "# Delivery Time Exploraiton"
   ]
  },
  {
   "cell_type": "code",
   "execution_count": 81,
   "id": "be8879c4",
   "metadata": {
    "scrolled": true
   },
   "outputs": [
    {
     "name": "stdout",
     "output_type": "stream",
     "text": [
      "<class 'pandas.core.frame.DataFrame'>\n",
      "Index: 96468 entries, 0 to 96476\n",
      "Data columns (total 12 columns):\n",
      " #   Column                         Non-Null Count  Dtype  \n",
      "---  ------                         --------------  -----  \n",
      " 0   order_id                       96468 non-null  object \n",
      " 1   customer_id                    96468 non-null  object \n",
      " 2   order_purchase_timestamp       96468 non-null  object \n",
      " 3   order_delivered_carrier_date   96468 non-null  object \n",
      " 4   order_delivered_customer_date  96468 non-null  object \n",
      " 5   order_estimated_delivery_date  96468 non-null  object \n",
      " 6   customer_unique_id             96468 non-null  object \n",
      " 7   customer_state                 96468 non-null  object \n",
      " 8   payment_type                   96468 non-null  object \n",
      " 9   payment_value                  96468 non-null  float64\n",
      " 10  payment_installments           96468 non-null  int64  \n",
      " 11  payment_sequential             96468 non-null  int64  \n",
      "dtypes: float64(1), int64(2), object(9)\n",
      "memory usage: 9.6+ MB\n"
     ]
    }
   ],
   "source": [
    "# Take the data that does not have any empty values.\n",
    "mask = order_customer_payment[['order_delivered_customer_date', 'order_delivered_carrier_date']].notna().all(axis=1)\n",
    "order_customer_payment = order_customer_payment[mask]\n",
    "order_customer_payment.info()"
   ]
  },
  {
   "cell_type": "code",
   "execution_count": 82,
   "id": "cc75d95a",
   "metadata": {},
   "outputs": [],
   "source": [
    "# Convert the date columns to the date type.\n",
    "date_columns = ['order_purchase_timestamp','order_delivered_carrier_date',\n",
    "                'order_delivered_customer_date','order_estimated_delivery_date']\n",
    "order_customer_payment = order_customer_payment.copy()\n",
    "order_customer_payment[date_columns] = order_customer_payment[date_columns].apply(pd.to_datetime)"
   ]
  },
  {
   "cell_type": "code",
   "execution_count": 83,
   "id": "efb6c745",
   "metadata": {},
   "outputs": [],
   "source": [
    "# Create a delivery_days column to calculate the number of days the delivery took after the customer purchased the product.\n",
    "order_customer_payment['delivery_days'] = (\n",
    "    order_customer_payment['order_delivered_customer_date'] - order_customer_payment['order_purchase_timestamp']\n",
    ").dt.days"
   ]
  },
  {
   "cell_type": "code",
   "execution_count": 84,
   "id": "76e593a4",
   "metadata": {},
   "outputs": [
    {
     "data": {
      "text/plain": [
       "count    96468.000000\n",
       "mean        12.092756\n",
       "std          9.549662\n",
       "min          0.000000\n",
       "25%          6.000000\n",
       "50%         10.000000\n",
       "75%         15.000000\n",
       "max        209.000000\n",
       "Name: delivery_days, dtype: float64"
      ]
     },
     "execution_count": 84,
     "metadata": {},
     "output_type": "execute_result"
    }
   ],
   "source": [
    "order_customer_payment['delivery_days'].describe()"
   ]
  },
  {
   "cell_type": "code",
   "execution_count": 85,
   "id": "4b265636",
   "metadata": {},
   "outputs": [
    {
     "data": {
      "text/html": [
       "<div>\n",
       "<style scoped>\n",
       "    .dataframe tbody tr th:only-of-type {\n",
       "        vertical-align: middle;\n",
       "    }\n",
       "\n",
       "    .dataframe tbody tr th {\n",
       "        vertical-align: top;\n",
       "    }\n",
       "\n",
       "    .dataframe thead th {\n",
       "        text-align: right;\n",
       "    }\n",
       "</style>\n",
       "<table border=\"1\" class=\"dataframe\">\n",
       "  <thead>\n",
       "    <tr style=\"text-align: right;\">\n",
       "      <th></th>\n",
       "      <th>order_id</th>\n",
       "      <th>customer_id</th>\n",
       "      <th>order_purchase_timestamp</th>\n",
       "      <th>order_delivered_carrier_date</th>\n",
       "      <th>order_delivered_customer_date</th>\n",
       "      <th>order_estimated_delivery_date</th>\n",
       "      <th>customer_unique_id</th>\n",
       "      <th>customer_state</th>\n",
       "      <th>payment_type</th>\n",
       "      <th>payment_value</th>\n",
       "      <th>payment_installments</th>\n",
       "      <th>payment_sequential</th>\n",
       "      <th>delivery_days</th>\n",
       "    </tr>\n",
       "  </thead>\n",
       "  <tbody>\n",
       "    <tr>\n",
       "      <th>382</th>\n",
       "      <td>38c1e3d4ed6a13cd0cf612d4c09766e9</td>\n",
       "      <td>18c934f4cdc994cd04eb13bce3f47a18</td>\n",
       "      <td>2018-02-02 15:26:38</td>\n",
       "      <td>2018-02-03 01:18:26</td>\n",
       "      <td>2018-02-03 15:05:56</td>\n",
       "      <td>2018-02-20</td>\n",
       "      <td>9aa5b032a9157594cda43b16a832f738</td>\n",
       "      <td>SP</td>\n",
       "      <td>credit_card</td>\n",
       "      <td>188.94</td>\n",
       "      <td>2</td>\n",
       "      <td>1</td>\n",
       "      <td>0</td>\n",
       "    </tr>\n",
       "    <tr>\n",
       "      <th>712</th>\n",
       "      <td>d3ca7b82c922817b06e5ca21165c5ea2</td>\n",
       "      <td>d23df2c6c3e51d875f458d123b2b3c90</td>\n",
       "      <td>2017-11-16 13:54:08</td>\n",
       "      <td>2017-11-16 20:56:53</td>\n",
       "      <td>2017-11-17 13:49:40</td>\n",
       "      <td>2017-11-29</td>\n",
       "      <td>88fbad05557cbc2d2f5fee59d6966716</td>\n",
       "      <td>SP</td>\n",
       "      <td>credit_card</td>\n",
       "      <td>108.51</td>\n",
       "      <td>2</td>\n",
       "      <td>1</td>\n",
       "      <td>0</td>\n",
       "    </tr>\n",
       "    <tr>\n",
       "      <th>30588</th>\n",
       "      <td>1d893dd7ca5f77ebf5f59f0d2017eee0</td>\n",
       "      <td>b19da0df0271e8a3553e3670f86aeab5</td>\n",
       "      <td>2017-06-19 08:19:45</td>\n",
       "      <td>2017-06-19 13:32:04</td>\n",
       "      <td>2017-06-19 21:07:52</td>\n",
       "      <td>2017-06-30</td>\n",
       "      <td>adfcd54789b345d7242847c583b483cf</td>\n",
       "      <td>RJ</td>\n",
       "      <td>credit_card</td>\n",
       "      <td>355.20</td>\n",
       "      <td>5</td>\n",
       "      <td>1</td>\n",
       "      <td>0</td>\n",
       "    </tr>\n",
       "    <tr>\n",
       "      <th>36631</th>\n",
       "      <td>21a8ffca665bc7a1087d31751a7b7cbc</td>\n",
       "      <td>225aed9e773953084b09cf496c2be05a</td>\n",
       "      <td>2017-05-31 12:00:35</td>\n",
       "      <td>2017-05-31 12:43:47</td>\n",
       "      <td>2017-06-01 10:28:24</td>\n",
       "      <td>2017-06-13</td>\n",
       "      <td>92776276a13b6d52820b4014aa07250d</td>\n",
       "      <td>SP</td>\n",
       "      <td>credit_card, voucher</td>\n",
       "      <td>58.62</td>\n",
       "      <td>1</td>\n",
       "      <td>3</td>\n",
       "      <td>0</td>\n",
       "    </tr>\n",
       "    <tr>\n",
       "      <th>37645</th>\n",
       "      <td>f3c6775ba3d2d9fe2826f93b71f12008</td>\n",
       "      <td>6aef84c09844a371d82a49152c550b95</td>\n",
       "      <td>2017-07-04 11:37:47</td>\n",
       "      <td>2017-07-04 13:53:13</td>\n",
       "      <td>2017-07-05 08:09:26</td>\n",
       "      <td>2017-07-17</td>\n",
       "      <td>c4320fbd4bc46bc041e8c2b703a05cd6</td>\n",
       "      <td>SP</td>\n",
       "      <td>credit_card</td>\n",
       "      <td>194.48</td>\n",
       "      <td>1</td>\n",
       "      <td>1</td>\n",
       "      <td>0</td>\n",
       "    </tr>\n",
       "    <tr>\n",
       "      <th>40560</th>\n",
       "      <td>434cecee7d1a65fc65358a632b6f725f</td>\n",
       "      <td>922a46283625e9c096bfd998913c470c</td>\n",
       "      <td>2017-05-29 13:21:46</td>\n",
       "      <td>2017-05-29 14:54:51</td>\n",
       "      <td>2017-05-30 08:06:56</td>\n",
       "      <td>2017-06-19</td>\n",
       "      <td>781f80ac54444e4020dc3f70f044d8b3</td>\n",
       "      <td>SP</td>\n",
       "      <td>credit_card</td>\n",
       "      <td>62.76</td>\n",
       "      <td>2</td>\n",
       "      <td>1</td>\n",
       "      <td>0</td>\n",
       "    </tr>\n",
       "    <tr>\n",
       "      <th>47315</th>\n",
       "      <td>f349cdb62f69c3fae5c4d7d3f3a4a185</td>\n",
       "      <td>c5e200d485ae35a7036cc2e7c1d8ea81</td>\n",
       "      <td>2018-06-28 14:34:48</td>\n",
       "      <td>2018-06-28 18:08:00</td>\n",
       "      <td>2018-06-29 14:12:18</td>\n",
       "      <td>2018-07-12</td>\n",
       "      <td>938e4b10f5b5ca81ab31b7c89367c559</td>\n",
       "      <td>SP</td>\n",
       "      <td>credit_card</td>\n",
       "      <td>78.64</td>\n",
       "      <td>1</td>\n",
       "      <td>1</td>\n",
       "      <td>0</td>\n",
       "    </tr>\n",
       "    <tr>\n",
       "      <th>47425</th>\n",
       "      <td>d5fbeedc85190ba88580d6f82d1d5ed3</td>\n",
       "      <td>344423c2e26d47d2b6d3dd363a89e812</td>\n",
       "      <td>2017-05-15 11:50:53</td>\n",
       "      <td>2017-05-15 12:52:34</td>\n",
       "      <td>2017-05-16 10:21:52</td>\n",
       "      <td>2017-05-24</td>\n",
       "      <td>6ebecf9718a9fdd2d34ea36f36501420</td>\n",
       "      <td>SP</td>\n",
       "      <td>credit_card</td>\n",
       "      <td>137.16</td>\n",
       "      <td>3</td>\n",
       "      <td>1</td>\n",
       "      <td>0</td>\n",
       "    </tr>\n",
       "    <tr>\n",
       "      <th>49551</th>\n",
       "      <td>e65f1eeee1f52024ad1dcd03447f7482</td>\n",
       "      <td>198f511b5a75bf936a96f1d4769e3974</td>\n",
       "      <td>2018-05-18 15:03:19</td>\n",
       "      <td>2018-05-18 15:00:00</td>\n",
       "      <td>2018-05-19 12:28:30</td>\n",
       "      <td>2018-05-29</td>\n",
       "      <td>d5f0cd2eb93b7fc7c2350e758af16dc9</td>\n",
       "      <td>SP</td>\n",
       "      <td>credit_card</td>\n",
       "      <td>43.28</td>\n",
       "      <td>1</td>\n",
       "      <td>1</td>\n",
       "      <td>0</td>\n",
       "    </tr>\n",
       "    <tr>\n",
       "      <th>67223</th>\n",
       "      <td>79e324907160caea526fd8b94389dbbc</td>\n",
       "      <td>331d79b67223ee7e5cd31d3e03e4cfcc</td>\n",
       "      <td>2018-06-18 12:59:42</td>\n",
       "      <td>2018-06-18 14:52:00</td>\n",
       "      <td>2018-06-19 12:43:27</td>\n",
       "      <td>2018-06-28</td>\n",
       "      <td>d18fee94d33d23af9211025b59299edd</td>\n",
       "      <td>SP</td>\n",
       "      <td>credit_card</td>\n",
       "      <td>25.29</td>\n",
       "      <td>2</td>\n",
       "      <td>1</td>\n",
       "      <td>0</td>\n",
       "    </tr>\n",
       "    <tr>\n",
       "      <th>67504</th>\n",
       "      <td>bb5a519e352b45b714192a02ffe25681</td>\n",
       "      <td>118295a853acb536efff13740faf5be8</td>\n",
       "      <td>2017-05-31 11:11:55</td>\n",
       "      <td>2017-05-31 11:36:15</td>\n",
       "      <td>2017-06-01 08:34:36</td>\n",
       "      <td>2017-06-27</td>\n",
       "      <td>a0fea4478b5357571900273006dd7cd6</td>\n",
       "      <td>SP</td>\n",
       "      <td>credit_card</td>\n",
       "      <td>116.36</td>\n",
       "      <td>3</td>\n",
       "      <td>1</td>\n",
       "      <td>0</td>\n",
       "    </tr>\n",
       "    <tr>\n",
       "      <th>88977</th>\n",
       "      <td>b70a8d75313560b4acf607739560a0e5</td>\n",
       "      <td>42992f7eb57b0f04f5a52cf89112f415</td>\n",
       "      <td>2018-05-14 12:20:06</td>\n",
       "      <td>2018-05-14 14:25:00</td>\n",
       "      <td>2018-05-15 12:17:46</td>\n",
       "      <td>2018-05-25</td>\n",
       "      <td>da19c16903891506c1c36334de8a394d</td>\n",
       "      <td>SP</td>\n",
       "      <td>credit_card</td>\n",
       "      <td>53.82</td>\n",
       "      <td>5</td>\n",
       "      <td>1</td>\n",
       "      <td>0</td>\n",
       "    </tr>\n",
       "    <tr>\n",
       "      <th>94520</th>\n",
       "      <td>8339b608be0d84fca9d8da68b58332c3</td>\n",
       "      <td>ff58662c328f81d3ee549c9caa942f39</td>\n",
       "      <td>2018-06-26 20:48:33</td>\n",
       "      <td>2018-06-27 11:31:00</td>\n",
       "      <td>2018-06-27 17:31:53</td>\n",
       "      <td>2018-07-25</td>\n",
       "      <td>13071413b2d7b730db1cd98a4611f2b2</td>\n",
       "      <td>BA</td>\n",
       "      <td>credit_card</td>\n",
       "      <td>765.84</td>\n",
       "      <td>6</td>\n",
       "      <td>1</td>\n",
       "      <td>0</td>\n",
       "    </tr>\n",
       "  </tbody>\n",
       "</table>\n",
       "</div>"
      ],
      "text/plain": [
       "                               order_id                       customer_id  \\\n",
       "382    38c1e3d4ed6a13cd0cf612d4c09766e9  18c934f4cdc994cd04eb13bce3f47a18   \n",
       "712    d3ca7b82c922817b06e5ca21165c5ea2  d23df2c6c3e51d875f458d123b2b3c90   \n",
       "30588  1d893dd7ca5f77ebf5f59f0d2017eee0  b19da0df0271e8a3553e3670f86aeab5   \n",
       "36631  21a8ffca665bc7a1087d31751a7b7cbc  225aed9e773953084b09cf496c2be05a   \n",
       "37645  f3c6775ba3d2d9fe2826f93b71f12008  6aef84c09844a371d82a49152c550b95   \n",
       "40560  434cecee7d1a65fc65358a632b6f725f  922a46283625e9c096bfd998913c470c   \n",
       "47315  f349cdb62f69c3fae5c4d7d3f3a4a185  c5e200d485ae35a7036cc2e7c1d8ea81   \n",
       "47425  d5fbeedc85190ba88580d6f82d1d5ed3  344423c2e26d47d2b6d3dd363a89e812   \n",
       "49551  e65f1eeee1f52024ad1dcd03447f7482  198f511b5a75bf936a96f1d4769e3974   \n",
       "67223  79e324907160caea526fd8b94389dbbc  331d79b67223ee7e5cd31d3e03e4cfcc   \n",
       "67504  bb5a519e352b45b714192a02ffe25681  118295a853acb536efff13740faf5be8   \n",
       "88977  b70a8d75313560b4acf607739560a0e5  42992f7eb57b0f04f5a52cf89112f415   \n",
       "94520  8339b608be0d84fca9d8da68b58332c3  ff58662c328f81d3ee549c9caa942f39   \n",
       "\n",
       "      order_purchase_timestamp order_delivered_carrier_date  \\\n",
       "382        2018-02-02 15:26:38          2018-02-03 01:18:26   \n",
       "712        2017-11-16 13:54:08          2017-11-16 20:56:53   \n",
       "30588      2017-06-19 08:19:45          2017-06-19 13:32:04   \n",
       "36631      2017-05-31 12:00:35          2017-05-31 12:43:47   \n",
       "37645      2017-07-04 11:37:47          2017-07-04 13:53:13   \n",
       "40560      2017-05-29 13:21:46          2017-05-29 14:54:51   \n",
       "47315      2018-06-28 14:34:48          2018-06-28 18:08:00   \n",
       "47425      2017-05-15 11:50:53          2017-05-15 12:52:34   \n",
       "49551      2018-05-18 15:03:19          2018-05-18 15:00:00   \n",
       "67223      2018-06-18 12:59:42          2018-06-18 14:52:00   \n",
       "67504      2017-05-31 11:11:55          2017-05-31 11:36:15   \n",
       "88977      2018-05-14 12:20:06          2018-05-14 14:25:00   \n",
       "94520      2018-06-26 20:48:33          2018-06-27 11:31:00   \n",
       "\n",
       "      order_delivered_customer_date order_estimated_delivery_date  \\\n",
       "382             2018-02-03 15:05:56                    2018-02-20   \n",
       "712             2017-11-17 13:49:40                    2017-11-29   \n",
       "30588           2017-06-19 21:07:52                    2017-06-30   \n",
       "36631           2017-06-01 10:28:24                    2017-06-13   \n",
       "37645           2017-07-05 08:09:26                    2017-07-17   \n",
       "40560           2017-05-30 08:06:56                    2017-06-19   \n",
       "47315           2018-06-29 14:12:18                    2018-07-12   \n",
       "47425           2017-05-16 10:21:52                    2017-05-24   \n",
       "49551           2018-05-19 12:28:30                    2018-05-29   \n",
       "67223           2018-06-19 12:43:27                    2018-06-28   \n",
       "67504           2017-06-01 08:34:36                    2017-06-27   \n",
       "88977           2018-05-15 12:17:46                    2018-05-25   \n",
       "94520           2018-06-27 17:31:53                    2018-07-25   \n",
       "\n",
       "                     customer_unique_id customer_state          payment_type  \\\n",
       "382    9aa5b032a9157594cda43b16a832f738             SP           credit_card   \n",
       "712    88fbad05557cbc2d2f5fee59d6966716             SP           credit_card   \n",
       "30588  adfcd54789b345d7242847c583b483cf             RJ           credit_card   \n",
       "36631  92776276a13b6d52820b4014aa07250d             SP  credit_card, voucher   \n",
       "37645  c4320fbd4bc46bc041e8c2b703a05cd6             SP           credit_card   \n",
       "40560  781f80ac54444e4020dc3f70f044d8b3             SP           credit_card   \n",
       "47315  938e4b10f5b5ca81ab31b7c89367c559             SP           credit_card   \n",
       "47425  6ebecf9718a9fdd2d34ea36f36501420             SP           credit_card   \n",
       "49551  d5f0cd2eb93b7fc7c2350e758af16dc9             SP           credit_card   \n",
       "67223  d18fee94d33d23af9211025b59299edd             SP           credit_card   \n",
       "67504  a0fea4478b5357571900273006dd7cd6             SP           credit_card   \n",
       "88977  da19c16903891506c1c36334de8a394d             SP           credit_card   \n",
       "94520  13071413b2d7b730db1cd98a4611f2b2             BA           credit_card   \n",
       "\n",
       "       payment_value  payment_installments  payment_sequential  delivery_days  \n",
       "382           188.94                     2                   1              0  \n",
       "712           108.51                     2                   1              0  \n",
       "30588         355.20                     5                   1              0  \n",
       "36631          58.62                     1                   3              0  \n",
       "37645         194.48                     1                   1              0  \n",
       "40560          62.76                     2                   1              0  \n",
       "47315          78.64                     1                   1              0  \n",
       "47425         137.16                     3                   1              0  \n",
       "49551          43.28                     1                   1              0  \n",
       "67223          25.29                     2                   1              0  \n",
       "67504         116.36                     3                   1              0  \n",
       "88977          53.82                     5                   1              0  \n",
       "94520         765.84                     6                   1              0  "
      ]
     },
     "execution_count": 85,
     "metadata": {},
     "output_type": "execute_result"
    }
   ],
   "source": [
    "# Check for the rows where delivery_days equals zero\n",
    "order_customer_payment[order_customer_payment['delivery_days'] == 0]"
   ]
  },
  {
   "cell_type": "markdown",
   "id": "38bf2151",
   "metadata": {},
   "source": [
    "Above where 'delivery_days' equals 0, the delivery time takes less than 1 day."
   ]
  },
  {
   "cell_type": "code",
   "execution_count": 86,
   "id": "982d5987",
   "metadata": {},
   "outputs": [
    {
     "data": {
      "image/png": "[encoded data removed]",
      "text/plain": [
       "<Figure size 640x480 with 1 Axes>"
      ]
     },
     "metadata": {},
     "output_type": "display_data"
    }
   ],
   "source": [
    "# Plot KDE\n",
    "sns.kdeplot(order_customer_payment['delivery_days'], fill=True)\n",
    "plt.xlabel('Delivery Days')\n",
    "plt.ylabel('Density')\n",
    "plt.title('KDE Plot of Delivered')\n",
    "plt.show()"
   ]
  },
  {
   "cell_type": "code",
   "execution_count": 87,
   "id": "5981b5fb",
   "metadata": {},
   "outputs": [
    {
     "name": "stdout",
     "output_type": "stream",
     "text": [
      "Upperbound: 28 days\n",
      "Number of outliers: 5020\n",
      "Percentage of outliers: 5.20%\n"
     ]
    }
   ],
   "source": [
    "# Look for the outliers in the 'delivery_days' column\n",
    "Q1 = order_customer_payment['delivery_days'].quantile(0.25)\n",
    "Q3 = order_customer_payment['delivery_days'].quantile(0.75)\n",
    "IQR = Q3 - Q1\n",
    "upper_bound = Q3 + 1.5 * IQR\n",
    "outliers = order_customer_payment[order_customer_payment['delivery_days']> upper_bound]\n",
    "\n",
    "print(f\"Upperbound: {int(upper_bound)} days\")\n",
    "print(f\"Number of outliers: {len(outliers)}\")\n",
    "print(f\"Percentage of outliers: {len(outliers)/len(order_customer_payment)*100:.2f}%\")"
   ]
  },
  {
   "cell_type": "markdown",
   "id": "f2b0848a",
   "metadata": {},
   "source": [
    "Where 'delivery_days' is more than 28, it is considered an outlier.\n",
    "\n",
    "5.20% of the delivered orders take longer than the rest of the data.\n"
   ]
  },
  {
   "cell_type": "code",
   "execution_count": 88,
   "id": "4a6f705c",
   "metadata": {},
   "outputs": [],
   "source": [
    "percentiles = order_customer_payment['delivery_days'].describe(percentiles=[0.90, 0.95, 0.98])"
   ]
  },
  {
   "cell_type": "code",
   "execution_count": 89,
   "id": "b82ba93a",
   "metadata": {},
   "outputs": [
    {
     "data": {
      "text/plain": [
       "count    96468.000000\n",
       "mean        12.092756\n",
       "std          9.549662\n",
       "min          0.000000\n",
       "50%         10.000000\n",
       "90%         23.000000\n",
       "95%         29.000000\n",
       "98%         38.000000\n",
       "max        209.000000\n",
       "Name: delivery_days, dtype: float64"
      ]
     },
     "execution_count": 89,
     "metadata": {},
     "output_type": "execute_result"
    }
   ],
   "source": [
    "percentiles"
   ]
  },
  {
   "cell_type": "code",
   "execution_count": 90,
   "id": "d6073d13",
   "metadata": {},
   "outputs": [],
   "source": [
    "# Calculate the estimated delivery days from the order purchase timestamp.\n",
    "order_customer_payment['estimated_days'] = (\n",
    "    order_customer_payment['order_estimated_delivery_date'] - order_customer_payment['order_purchase_timestamp']\n",
    ").dt.days                                           "
   ]
  },
  {
   "cell_type": "code",
   "execution_count": 91,
   "id": "3c3c67e1",
   "metadata": {},
   "outputs": [
    {
     "data": {
      "text/plain": [
       "count    96468.000000\n",
       "mean        23.372580\n",
       "std          8.758218\n",
       "min          2.000000\n",
       "25%         18.000000\n",
       "50%         23.000000\n",
       "75%         28.000000\n",
       "max        155.000000\n",
       "Name: estimated_days, dtype: float64"
      ]
     },
     "execution_count": 91,
     "metadata": {},
     "output_type": "execute_result"
    }
   ],
   "source": [
    "order_customer_payment['estimated_days'].describe()"
   ]
  },
  {
   "cell_type": "code",
   "execution_count": 92,
   "id": "60208e80",
   "metadata": {},
   "outputs": [
    {
     "data": {
      "image/png": "[encoded data removed]",
      "text/plain": [
       "<Figure size 1000x400 with 2 Axes>"
      ]
     },
     "metadata": {},
     "output_type": "display_data"
    }
   ],
   "source": [
    "fig, axes = plt.subplots(1, 2, figsize=(10,4), sharey=True)\n",
    "axes[0].hist(order_customer_payment['estimated_days'])\n",
    "axes[0].set_title('Estimated Days')\n",
    "axes[0].set_xlabel('Days')\n",
    "axes[0].set_ylabel('Frequency')\n",
    "\n",
    "axes[1].hist(order_customer_payment['delivery_days'])\n",
    "axes[1].set_title('Delivery Days')\n",
    "axes[1].set_xlabel('Days')\n",
    "axes[1].set_ylabel('Frequency')\n",
    "\n",
    "plt.tight_layout() \n",
    "plt.show()"
   ]
  },
  {
   "cell_type": "markdown",
   "id": "dade0c14",
   "metadata": {},
   "source": [
    "Actual deliveries (right plot) tend to be faster than estimated times (left plot).\n",
    "The delivery system appears to be efficient as most deliveries are completed in the first time bucket.\n",
    "There's less spread in actual delivery times compared to estimated times."
   ]
  },
  {
   "cell_type": "code",
   "execution_count": 93,
   "id": "4a2ce067",
   "metadata": {},
   "outputs": [],
   "source": [
    "# Calculate the difference between the estimated delivery date and the actual delivery date.\n",
    "order_customer_payment['estimated_vs_actual_diff'] = (\n",
    "    order_customer_payment['order_estimated_delivery_date'] - order_customer_payment['order_delivered_customer_date']\n",
    ").dt.days"
   ]
  },
  {
   "cell_type": "code",
   "execution_count": 94,
   "id": "26b63310",
   "metadata": {
    "scrolled": true
   },
   "outputs": [
    {
     "data": {
      "text/plain": [
       "count    96468.000000\n",
       "mean        10.876570\n",
       "std         10.180881\n",
       "min       -189.000000\n",
       "25%          6.000000\n",
       "50%         11.000000\n",
       "75%         16.000000\n",
       "max        146.000000\n",
       "Name: estimated_vs_actual_diff, dtype: float64"
      ]
     },
     "execution_count": 94,
     "metadata": {},
     "output_type": "execute_result"
    }
   ],
   "source": [
    "order_customer_payment['estimated_vs_actual_diff'].describe()"
   ]
  },
  {
   "cell_type": "code",
   "execution_count": 95,
   "id": "409ff433",
   "metadata": {},
   "outputs": [
    {
     "name": "stdout",
     "output_type": "stream",
     "text": [
      "Orders delivered after the estimated delivery date:\n",
      "count    7824.000000\n",
      "mean       -9.863753\n",
      "std        13.948659\n",
      "min      -189.000000\n",
      "25%       -12.000000\n",
      "50%        -6.000000\n",
      "75%        -2.000000\n",
      "max        -1.000000\n",
      "Name: estimated_vs_actual_diff, dtype: float64\n",
      "Percentage of late deliveries: 8.11%\n"
     ]
    }
   ],
   "source": [
    "late_delivery = order_customer_payment[order_customer_payment['estimated_vs_actual_diff'] < 0]\n",
    "print(f\"Orders delivered after the estimated delivery date:\\n{late_delivery['estimated_vs_actual_diff'].describe()}\")\n",
    "print(f'Percentage of late deliveries: {len(late_delivery) / len(order_customer_payment):.2%}')"
   ]
  },
  {
   "cell_type": "markdown",
   "id": "5fe4a6a3",
   "metadata": {},
   "source": [
    "8.11% of the total delivered orders were delivered after the estimated delivery date."
   ]
  },
  {
   "cell_type": "code",
   "execution_count": 96,
   "id": "9b70337c",
   "metadata": {
    "scrolled": true
   },
   "outputs": [
    {
     "name": "stdout",
     "output_type": "stream",
     "text": [
      "Orders delivered before the estimated delivery date:\n",
      "count    88644.000000\n",
      "mean        12.707177\n",
      "std          7.369468\n",
      "min          0.000000\n",
      "25%          7.000000\n",
      "50%         12.000000\n",
      "75%         17.000000\n",
      "max        146.000000\n",
      "Name: estimated_vs_actual_diff, dtype: float64\n",
      "Percentage of early deliveries: 91.89%\n"
     ]
    }
   ],
   "source": [
    "early_delivery = order_customer_payment[order_customer_payment['estimated_vs_actual_diff'] >= 0]\n",
    "print(f\"Orders delivered before the estimated delivery date:\\n{early_delivery['estimated_vs_actual_diff'].describe()}\")\n",
    "print(f'Percentage of early deliveries: {len(early_delivery) / len(order_customer_payment):.2%}')"
   ]
  },
  {
   "cell_type": "markdown",
   "id": "39f423ca",
   "metadata": {},
   "source": [
    "When orders are early, they're typically delivered about 12.70 days before the estimated date\n",
    "When orders are late, they're typically about 9.86 days past the estimated date.\n",
    "\n",
    "This bias in the estimated delivery days (91.89% of orders are delivered early) could be intentional and systematic to ensure customer satisfaction."
   ]
  },
  {
   "cell_type": "markdown",
   "id": "d2d4e14b",
   "metadata": {},
   "source": [
    "# Product-Items-Sellers-Translations Datasets"
   ]
  },
  {
   "cell_type": "code",
   "execution_count": 97,
   "id": "16ed4dae",
   "metadata": {},
   "outputs": [],
   "source": [
    "# Use the category_translation dataset to extract the English-translated names.\n",
    "products = products.merge(category_translation, on='product_category_name', how='left')"
   ]
  },
  {
   "cell_type": "code",
   "execution_count": 98,
   "id": "78ec06db",
   "metadata": {},
   "outputs": [
    {
     "name": "stdout",
     "output_type": "stream",
     "text": [
      "<class 'pandas.core.frame.DataFrame'>\n",
      "RangeIndex: 32951 entries, 0 to 32950\n",
      "Data columns (total 10 columns):\n",
      " #   Column                         Non-Null Count  Dtype  \n",
      "---  ------                         --------------  -----  \n",
      " 0   product_id                     32951 non-null  object \n",
      " 1   product_category_name          32341 non-null  object \n",
      " 2   product_name_lenght            32341 non-null  float64\n",
      " 3   product_description_lenght     32341 non-null  float64\n",
      " 4   product_photos_qty             32341 non-null  float64\n",
      " 5   product_weight_g               32949 non-null  float64\n",
      " 6   product_length_cm              32949 non-null  float64\n",
      " 7   product_height_cm              32949 non-null  float64\n",
      " 8   product_width_cm               32949 non-null  float64\n",
      " 9   product_category_name_english  32328 non-null  object \n",
      "dtypes: float64(7), object(3)\n",
      "memory usage: 2.5+ MB\n"
     ]
    }
   ],
   "source": [
    "products.info()"
   ]
  },
  {
   "cell_type": "markdown",
   "id": "cb78d3a8",
   "metadata": {},
   "source": [
    "It looks like some categories have not been translated into English. "
   ]
  },
  {
   "cell_type": "code",
   "execution_count": 99,
   "id": "b23e0713",
   "metadata": {},
   "outputs": [],
   "source": [
    "# Check the rows where 'product_category_name' has values, but 'product_category_name_english' does not.\n",
    "empty_english = products[(products['product_category_name_english'].isnull()) & (products['product_category_name'].notnull())]"
   ]
  },
  {
   "cell_type": "code",
   "execution_count": 100,
   "id": "63fb4381",
   "metadata": {
    "scrolled": false
   },
   "outputs": [
    {
     "data": {
      "text/plain": [
       "product_category_name\n",
       "portateis_cozinha_e_preparadores_de_alimentos    10\n",
       "pc_gamer                                          3\n",
       "Name: count, dtype: int64"
      ]
     },
     "execution_count": 100,
     "metadata": {},
     "output_type": "execute_result"
    }
   ],
   "source": [
    "empty_english['product_category_name'].value_counts(dropna=False)"
   ]
  },
  {
   "cell_type": "code",
   "execution_count": 101,
   "id": "2606c425",
   "metadata": {},
   "outputs": [],
   "source": [
    "# Empty rows in the 'product_category_name_english' column are filled with the original row name.\n",
    "products['product_category_name_english'] = products['product_category_name_english'].fillna(products['product_category_name'])"
   ]
  },
  {
   "cell_type": "code",
   "execution_count": 102,
   "id": "bf8579bf",
   "metadata": {},
   "outputs": [],
   "source": [
    "# Check for rows that do not have an English translation and add it to the dataset.\n",
    "products.loc[products['product_category_name_english'] == 'portateis_cozinha_e_preparadores_de_alimentos',\n",
    "             'product_category_name_english'] = 'portable_kitchen_and_food_processors'"
   ]
  },
  {
   "cell_type": "code",
   "execution_count": 103,
   "id": "86e495d1",
   "metadata": {},
   "outputs": [],
   "source": [
    "# Drop the 'product_category_name' column\n",
    "products = products.drop('product_category_name', axis=1)"
   ]
  },
  {
   "cell_type": "code",
   "execution_count": 104,
   "id": "d18bed12",
   "metadata": {
    "scrolled": false
   },
   "outputs": [
    {
     "name": "stdout",
     "output_type": "stream",
     "text": [
      "<class 'pandas.core.frame.DataFrame'>\n",
      "RangeIndex: 112650 entries, 0 to 112649\n",
      "Data columns (total 7 columns):\n",
      " #   Column               Non-Null Count   Dtype  \n",
      "---  ------               --------------   -----  \n",
      " 0   order_id             112650 non-null  object \n",
      " 1   order_item_id        112650 non-null  int64  \n",
      " 2   product_id           112650 non-null  object \n",
      " 3   seller_id            112650 non-null  object \n",
      " 4   shipping_limit_date  112650 non-null  object \n",
      " 5   price                112650 non-null  float64\n",
      " 6   freight_value        112650 non-null  float64\n",
      "dtypes: float64(2), int64(1), object(4)\n",
      "memory usage: 6.0+ MB\n"
     ]
    }
   ],
   "source": [
    "items.info()"
   ]
  },
  {
   "cell_type": "code",
   "execution_count": 105,
   "id": "d75cbdd3",
   "metadata": {},
   "outputs": [
    {
     "data": {
      "text/plain": [
       "98666"
      ]
     },
     "execution_count": 105,
     "metadata": {},
     "output_type": "execute_result"
    }
   ],
   "source": [
    "items['order_id'].nunique()"
   ]
  },
  {
   "cell_type": "code",
   "execution_count": 106,
   "id": "53cc2b7e",
   "metadata": {},
   "outputs": [
    {
     "name": "stdout",
     "output_type": "stream",
     "text": [
      "<class 'pandas.core.frame.DataFrame'>\n",
      "RangeIndex: 3095 entries, 0 to 3094\n",
      "Data columns (total 4 columns):\n",
      " #   Column                  Non-Null Count  Dtype \n",
      "---  ------                  --------------  ----- \n",
      " 0   seller_id               3095 non-null   object\n",
      " 1   seller_zip_code_prefix  3095 non-null   int64 \n",
      " 2   seller_city             3095 non-null   object\n",
      " 3   seller_state            3095 non-null   object\n",
      "dtypes: int64(1), object(3)\n",
      "memory usage: 96.8+ KB\n"
     ]
    }
   ],
   "source": [
    "sellers.info()"
   ]
  },
  {
   "cell_type": "code",
   "execution_count": 107,
   "id": "966caa87",
   "metadata": {},
   "outputs": [],
   "source": [
    "# Merge the products and items datasets together.\n",
    "items_products = items.merge(products, on='product_id', how= 'left')\n",
    "items_products_sellers = items_products.merge(sellers, on='seller_id', how='left')"
   ]
  },
  {
   "cell_type": "code",
   "execution_count": 108,
   "id": "7b0799ab",
   "metadata": {
    "scrolled": true
   },
   "outputs": [
    {
     "name": "stdout",
     "output_type": "stream",
     "text": [
      "<class 'pandas.core.frame.DataFrame'>\n",
      "RangeIndex: 112650 entries, 0 to 112649\n",
      "Data columns (total 18 columns):\n",
      " #   Column                         Non-Null Count   Dtype  \n",
      "---  ------                         --------------   -----  \n",
      " 0   order_id                       112650 non-null  object \n",
      " 1   order_item_id                  112650 non-null  int64  \n",
      " 2   product_id                     112650 non-null  object \n",
      " 3   seller_id                      112650 non-null  object \n",
      " 4   shipping_limit_date            112650 non-null  object \n",
      " 5   price                          112650 non-null  float64\n",
      " 6   freight_value                  112650 non-null  float64\n",
      " 7   product_name_lenght            111047 non-null  float64\n",
      " 8   product_description_lenght     111047 non-null  float64\n",
      " 9   product_photos_qty             111047 non-null  float64\n",
      " 10  product_weight_g               112632 non-null  float64\n",
      " 11  product_length_cm              112632 non-null  float64\n",
      " 12  product_height_cm              112632 non-null  float64\n",
      " 13  product_width_cm               112632 non-null  float64\n",
      " 14  product_category_name_english  111047 non-null  object \n",
      " 15  seller_zip_code_prefix         112650 non-null  int64  \n",
      " 16  seller_city                    112650 non-null  object \n",
      " 17  seller_state                   112650 non-null  object \n",
      "dtypes: float64(9), int64(2), object(7)\n",
      "memory usage: 15.5+ MB\n"
     ]
    }
   ],
   "source": [
    "items_products_sellers.info()"
   ]
  },
  {
   "cell_type": "code",
   "execution_count": 109,
   "id": "eb35ed99",
   "metadata": {
    "scrolled": true
   },
   "outputs": [
    {
     "data": {
      "text/html": [
       "<div>\n",
       "<style scoped>\n",
       "    .dataframe tbody tr th:only-of-type {\n",
       "        vertical-align: middle;\n",
       "    }\n",
       "\n",
       "    .dataframe tbody tr th {\n",
       "        vertical-align: top;\n",
       "    }\n",
       "\n",
       "    .dataframe thead th {\n",
       "        text-align: right;\n",
       "    }\n",
       "</style>\n",
       "<table border=\"1\" class=\"dataframe\">\n",
       "  <thead>\n",
       "    <tr style=\"text-align: right;\">\n",
       "      <th></th>\n",
       "      <th>order_id</th>\n",
       "      <th>order_item_id</th>\n",
       "      <th>product_id</th>\n",
       "      <th>seller_id</th>\n",
       "      <th>shipping_limit_date</th>\n",
       "      <th>price</th>\n",
       "      <th>freight_value</th>\n",
       "      <th>product_name_lenght</th>\n",
       "      <th>product_description_lenght</th>\n",
       "      <th>product_photos_qty</th>\n",
       "      <th>product_weight_g</th>\n",
       "      <th>product_length_cm</th>\n",
       "      <th>product_height_cm</th>\n",
       "      <th>product_width_cm</th>\n",
       "      <th>product_category_name_english</th>\n",
       "      <th>seller_zip_code_prefix</th>\n",
       "      <th>seller_city</th>\n",
       "      <th>seller_state</th>\n",
       "    </tr>\n",
       "  </thead>\n",
       "  <tbody>\n",
       "    <tr>\n",
       "      <th>0</th>\n",
       "      <td>00010242fe8c5a6d1ba2dd792cb16214</td>\n",
       "      <td>1</td>\n",
       "      <td>4244733e06e7ecb4970a6e2683c13e61</td>\n",
       "      <td>48436dade18ac8b2bce089ec2a041202</td>\n",
       "      <td>2017-09-19 09:45:35</td>\n",
       "      <td>58.90</td>\n",
       "      <td>13.29</td>\n",
       "      <td>58.0</td>\n",
       "      <td>598.0</td>\n",
       "      <td>4.0</td>\n",
       "      <td>650.0</td>\n",
       "      <td>28.0</td>\n",
       "      <td>9.0</td>\n",
       "      <td>14.0</td>\n",
       "      <td>cool_stuff</td>\n",
       "      <td>27277</td>\n",
       "      <td>volta redonda</td>\n",
       "      <td>SP</td>\n",
       "    </tr>\n",
       "    <tr>\n",
       "      <th>1</th>\n",
       "      <td>00018f77f2f0320c557190d7a144bdd3</td>\n",
       "      <td>1</td>\n",
       "      <td>e5f2d52b802189ee658865ca93d83a8f</td>\n",
       "      <td>dd7ddc04e1b6c2c614352b383efe2d36</td>\n",
       "      <td>2017-05-03 11:05:13</td>\n",
       "      <td>239.90</td>\n",
       "      <td>19.93</td>\n",
       "      <td>56.0</td>\n",
       "      <td>239.0</td>\n",
       "      <td>2.0</td>\n",
       "      <td>30000.0</td>\n",
       "      <td>50.0</td>\n",
       "      <td>30.0</td>\n",
       "      <td>40.0</td>\n",
       "      <td>pet_shop</td>\n",
       "      <td>3471</td>\n",
       "      <td>sao paulo</td>\n",
       "      <td>SP</td>\n",
       "    </tr>\n",
       "    <tr>\n",
       "      <th>2</th>\n",
       "      <td>000229ec398224ef6ca0657da4fc703e</td>\n",
       "      <td>1</td>\n",
       "      <td>c777355d18b72b67abbeef9df44fd0fd</td>\n",
       "      <td>5b51032eddd242adc84c38acab88f23d</td>\n",
       "      <td>2018-01-18 14:48:30</td>\n",
       "      <td>199.00</td>\n",
       "      <td>17.87</td>\n",
       "      <td>59.0</td>\n",
       "      <td>695.0</td>\n",
       "      <td>2.0</td>\n",
       "      <td>3050.0</td>\n",
       "      <td>33.0</td>\n",
       "      <td>13.0</td>\n",
       "      <td>33.0</td>\n",
       "      <td>furniture_decor</td>\n",
       "      <td>37564</td>\n",
       "      <td>borda da mata</td>\n",
       "      <td>MG</td>\n",
       "    </tr>\n",
       "    <tr>\n",
       "      <th>3</th>\n",
       "      <td>00024acbcdf0a6daa1e931b038114c75</td>\n",
       "      <td>1</td>\n",
       "      <td>7634da152a4610f1595efa32f14722fc</td>\n",
       "      <td>9d7a1d34a5052409006425275ba1c2b4</td>\n",
       "      <td>2018-08-15 10:10:18</td>\n",
       "      <td>12.99</td>\n",
       "      <td>12.79</td>\n",
       "      <td>42.0</td>\n",
       "      <td>480.0</td>\n",
       "      <td>1.0</td>\n",
       "      <td>200.0</td>\n",
       "      <td>16.0</td>\n",
       "      <td>10.0</td>\n",
       "      <td>15.0</td>\n",
       "      <td>perfumery</td>\n",
       "      <td>14403</td>\n",
       "      <td>franca</td>\n",
       "      <td>SP</td>\n",
       "    </tr>\n",
       "    <tr>\n",
       "      <th>4</th>\n",
       "      <td>00042b26cf59d7ce69dfabb4e55b4fd9</td>\n",
       "      <td>1</td>\n",
       "      <td>ac6c3623068f30de03045865e4e10089</td>\n",
       "      <td>df560393f3a51e74553ab94004ba5c87</td>\n",
       "      <td>2017-02-13 13:57:51</td>\n",
       "      <td>199.90</td>\n",
       "      <td>18.14</td>\n",
       "      <td>59.0</td>\n",
       "      <td>409.0</td>\n",
       "      <td>1.0</td>\n",
       "      <td>3750.0</td>\n",
       "      <td>35.0</td>\n",
       "      <td>40.0</td>\n",
       "      <td>30.0</td>\n",
       "      <td>garden_tools</td>\n",
       "      <td>87900</td>\n",
       "      <td>loanda</td>\n",
       "      <td>PR</td>\n",
       "    </tr>\n",
       "  </tbody>\n",
       "</table>\n",
       "</div>"
      ],
      "text/plain": [
       "                           order_id  order_item_id  \\\n",
       "0  00010242fe8c5a6d1ba2dd792cb16214              1   \n",
       "1  00018f77f2f0320c557190d7a144bdd3              1   \n",
       "2  000229ec398224ef6ca0657da4fc703e              1   \n",
       "3  00024acbcdf0a6daa1e931b038114c75              1   \n",
       "4  00042b26cf59d7ce69dfabb4e55b4fd9              1   \n",
       "\n",
       "                         product_id                         seller_id  \\\n",
       "0  4244733e06e7ecb4970a6e2683c13e61  48436dade18ac8b2bce089ec2a041202   \n",
       "1  e5f2d52b802189ee658865ca93d83a8f  dd7ddc04e1b6c2c614352b383efe2d36   \n",
       "2  c777355d18b72b67abbeef9df44fd0fd  5b51032eddd242adc84c38acab88f23d   \n",
       "3  7634da152a4610f1595efa32f14722fc  9d7a1d34a5052409006425275ba1c2b4   \n",
       "4  ac6c3623068f30de03045865e4e10089  df560393f3a51e74553ab94004ba5c87   \n",
       "\n",
       "   shipping_limit_date   price  freight_value  product_name_lenght  \\\n",
       "0  2017-09-19 09:45:35   58.90          13.29                 58.0   \n",
       "1  2017-05-03 11:05:13  239.90          19.93                 56.0   \n",
       "2  2018-01-18 14:48:30  199.00          17.87                 59.0   \n",
       "3  2018-08-15 10:10:18   12.99          12.79                 42.0   \n",
       "4  2017-02-13 13:57:51  199.90          18.14                 59.0   \n",
       "\n",
       "   product_description_lenght  product_photos_qty  product_weight_g  \\\n",
       "0                       598.0                 4.0             650.0   \n",
       "1                       239.0                 2.0           30000.0   \n",
       "2                       695.0                 2.0            3050.0   \n",
       "3                       480.0                 1.0             200.0   \n",
       "4                       409.0                 1.0            3750.0   \n",
       "\n",
       "   product_length_cm  product_height_cm  product_width_cm  \\\n",
       "0               28.0                9.0              14.0   \n",
       "1               50.0               30.0              40.0   \n",
       "2               33.0               13.0              33.0   \n",
       "3               16.0               10.0              15.0   \n",
       "4               35.0               40.0              30.0   \n",
       "\n",
       "  product_category_name_english  seller_zip_code_prefix    seller_city  \\\n",
       "0                    cool_stuff                   27277  volta redonda   \n",
       "1                      pet_shop                    3471      sao paulo   \n",
       "2               furniture_decor                   37564  borda da mata   \n",
       "3                     perfumery                   14403         franca   \n",
       "4                  garden_tools                   87900         loanda   \n",
       "\n",
       "  seller_state  \n",
       "0           SP  \n",
       "1           SP  \n",
       "2           MG  \n",
       "3           SP  \n",
       "4           PR  "
      ]
     },
     "execution_count": 109,
     "metadata": {},
     "output_type": "execute_result"
    }
   ],
   "source": [
    "items_products_sellers.head()"
   ]
  },
  {
   "cell_type": "code",
   "execution_count": 110,
   "id": "4e2b90b8",
   "metadata": {},
   "outputs": [],
   "source": [
    "columns_ = ['order_id', 'seller_id', 'shipping_limit_date', 'price', 'freight_value', 'product_weight_g',\n",
    "            'product_category_name_english','seller_state']\n",
    "\n",
    "items_products_sellers = items_products_sellers[columns_]"
   ]
  },
  {
   "cell_type": "code",
   "execution_count": 111,
   "id": "a62f276a",
   "metadata": {},
   "outputs": [
    {
     "data": {
      "text/plain": [
       "seller_id\n",
       "6560211a19b47992c3666cc44a7e94c0    2033\n",
       "4a3ca9315b744ce9f8e9374361493884    1987\n",
       "1f50f920176fa81dab994f9023523100    1931\n",
       "cc419e0650a3c5ba77189a1882b7556a    1775\n",
       "da8622b14eb17ae2831f4ac5b9dab84a    1551\n",
       "                                    ... \n",
       "5f57db27027655e6c6a391601daa0258       1\n",
       "5e25c632f9db6cfb8bc100421c2737b6       1\n",
       "5e106d93b717c2682b9383da480364a1       1\n",
       "d36b07fd3c5088e477a72d1fccfe29d4       1\n",
       "7d81e74a4755b552267cd5e081563028       1\n",
       "Length: 3095, dtype: int64"
      ]
     },
     "execution_count": 111,
     "metadata": {},
     "output_type": "execute_result"
    }
   ],
   "source": [
    "# Group the dataset by 'seller_id' and count the number of transactions per seller.\n",
    "seller_counts = items_products_sellers.groupby('seller_id').size()\n",
    "\n",
    "#Sort the sellers in descending order to see the most active sellers first.\n",
    "seller_counts.sort_values(ascending = False)"
   ]
  },
  {
   "cell_type": "code",
   "execution_count": 112,
   "id": "01c03693",
   "metadata": {},
   "outputs": [
    {
     "data": {
      "text/plain": [
       "count    3095.000000\n",
       "mean       36.397415\n",
       "std       119.193461\n",
       "min         1.000000\n",
       "50%         8.000000\n",
       "90%        80.000000\n",
       "95%       146.600000\n",
       "98%       302.480000\n",
       "max      2033.000000\n",
       "dtype: float64"
      ]
     },
     "execution_count": 112,
     "metadata": {},
     "output_type": "execute_result"
    }
   ],
   "source": [
    "seller_counts.describe(percentiles=[0.90, 0.95, 0.98])"
   ]
  },
  {
   "cell_type": "markdown",
   "id": "dd156914",
   "metadata": {},
   "source": [
    "50% (median) of sellers sold 8 orders or less.\n",
    "The high standard deviation (119.2) relative to the mean (36.4) indicates high variability in seller activity."
   ]
  },
  {
   "cell_type": "code",
   "execution_count": 128,
   "id": "01240c62",
   "metadata": {},
   "outputs": [],
   "source": [
    "# Analyze the seller performance. \n",
    "seller_performance = items_products_sellers.groupby('seller_id').agg(\n",
    "    total_revenue=('price', 'sum'),\n",
    "    total_orders=('order_id', 'count'),\n",
    "    avg_order_value=('price', 'mean')\n",
    ")"
   ]
  },
  {
   "cell_type": "code",
   "execution_count": 129,
   "id": "3aaa77a7",
   "metadata": {},
   "outputs": [
    {
     "data": {
      "text/html": [
       "<div>\n",
       "<style scoped>\n",
       "    .dataframe tbody tr th:only-of-type {\n",
       "        vertical-align: middle;\n",
       "    }\n",
       "\n",
       "    .dataframe tbody tr th {\n",
       "        vertical-align: top;\n",
       "    }\n",
       "\n",
       "    .dataframe thead th {\n",
       "        text-align: right;\n",
       "    }\n",
       "</style>\n",
       "<table border=\"1\" class=\"dataframe\">\n",
       "  <thead>\n",
       "    <tr style=\"text-align: right;\">\n",
       "      <th></th>\n",
       "      <th>total_revenue</th>\n",
       "      <th>total_orders</th>\n",
       "      <th>avg_order_value</th>\n",
       "    </tr>\n",
       "    <tr>\n",
       "      <th>seller_id</th>\n",
       "      <th></th>\n",
       "      <th></th>\n",
       "      <th></th>\n",
       "    </tr>\n",
       "  </thead>\n",
       "  <tbody>\n",
       "    <tr>\n",
       "      <th>0015a82c2db000af6aaaf3ae2ecb0532</th>\n",
       "      <td>2685.00</td>\n",
       "      <td>3</td>\n",
       "      <td>895.000000</td>\n",
       "    </tr>\n",
       "    <tr>\n",
       "      <th>001cca7ae9ae17fb1caed9dfb1094831</th>\n",
       "      <td>25080.03</td>\n",
       "      <td>239</td>\n",
       "      <td>104.937364</td>\n",
       "    </tr>\n",
       "    <tr>\n",
       "      <th>001e6ad469a905060d959994f1b41e4f</th>\n",
       "      <td>250.00</td>\n",
       "      <td>1</td>\n",
       "      <td>250.000000</td>\n",
       "    </tr>\n",
       "    <tr>\n",
       "      <th>002100f778ceb8431b7a1020ff7ab48f</th>\n",
       "      <td>1234.50</td>\n",
       "      <td>55</td>\n",
       "      <td>22.445455</td>\n",
       "    </tr>\n",
       "    <tr>\n",
       "      <th>003554e2dce176b5555353e4f3555ac8</th>\n",
       "      <td>120.00</td>\n",
       "      <td>1</td>\n",
       "      <td>120.000000</td>\n",
       "    </tr>\n",
       "  </tbody>\n",
       "</table>\n",
       "</div>"
      ],
      "text/plain": [
       "                                  total_revenue  total_orders  avg_order_value\n",
       "seller_id                                                                     \n",
       "0015a82c2db000af6aaaf3ae2ecb0532        2685.00             3       895.000000\n",
       "001cca7ae9ae17fb1caed9dfb1094831       25080.03           239       104.937364\n",
       "001e6ad469a905060d959994f1b41e4f         250.00             1       250.000000\n",
       "002100f778ceb8431b7a1020ff7ab48f        1234.50            55        22.445455\n",
       "003554e2dce176b5555353e4f3555ac8         120.00             1       120.000000"
      ]
     },
     "execution_count": 129,
     "metadata": {},
     "output_type": "execute_result"
    }
   ],
   "source": [
    "seller_performance.head()"
   ]
  },
  {
   "cell_type": "code",
   "execution_count": 130,
   "id": "a4ce58f6",
   "metadata": {},
   "outputs": [
    {
     "data": {
      "text/plain": [
       "count      3095.000000\n",
       "mean       4391.484233\n",
       "std       13921.997192\n",
       "min           3.500000\n",
       "25%         208.850000\n",
       "50%         821.480000\n",
       "75%        3280.830000\n",
       "max      229472.630000\n",
       "Name: total_revenue, dtype: float64"
      ]
     },
     "execution_count": 130,
     "metadata": {},
     "output_type": "execute_result"
    }
   ],
   "source": [
    "seller_performance['total_revenue'].describe()"
   ]
  },
  {
   "cell_type": "code",
   "execution_count": 132,
   "id": "2b4114bd",
   "metadata": {},
   "outputs": [],
   "source": [
    "# Determine percentile thresholds for segmenting the 'total_revenue' column.\n",
    "percentiles = seller_performance['total_revenue'].quantile([0.25, 0.5, 0.75, 0.9])\n",
    "\n",
    "# Create a 'segment' column for segment analysis.\n",
    "seller_performance = seller_performance.reset_index()  # This makes seller_id a column instead of index\n",
    "seller_performance['segment'] = pd.cut(seller_performance['total_revenue'],\n",
    "                                     bins=[-float('inf'), percentiles[0.25], percentiles[0.5], \n",
    "                                          percentiles[0.75], percentiles[0.9], float('inf')],\n",
    "                                     labels=['Bottom', 'Lower Mid', 'Upper Mid', 'High', 'Top'])"
   ]
  },
  {
   "cell_type": "code",
   "execution_count": 123,
   "id": "d7d1f98d",
   "metadata": {},
   "outputs": [
    {
     "data": {
      "text/html": [
       "<div>\n",
       "<style scoped>\n",
       "    .dataframe tbody tr th:only-of-type {\n",
       "        vertical-align: middle;\n",
       "    }\n",
       "\n",
       "    .dataframe tbody tr th {\n",
       "        vertical-align: top;\n",
       "    }\n",
       "\n",
       "    .dataframe thead th {\n",
       "        text-align: right;\n",
       "    }\n",
       "</style>\n",
       "<table border=\"1\" class=\"dataframe\">\n",
       "  <thead>\n",
       "    <tr style=\"text-align: right;\">\n",
       "      <th></th>\n",
       "      <th>seller_id</th>\n",
       "      <th>total_revenue</th>\n",
       "      <th>total_orders</th>\n",
       "      <th>avg_order_value</th>\n",
       "      <th>segment</th>\n",
       "    </tr>\n",
       "  </thead>\n",
       "  <tbody>\n",
       "    <tr>\n",
       "      <th>0</th>\n",
       "      <td>0015a82c2db000af6aaaf3ae2ecb0532</td>\n",
       "      <td>2685.00</td>\n",
       "      <td>3</td>\n",
       "      <td>895.000000</td>\n",
       "      <td>Upper Mid</td>\n",
       "    </tr>\n",
       "    <tr>\n",
       "      <th>1</th>\n",
       "      <td>001cca7ae9ae17fb1caed9dfb1094831</td>\n",
       "      <td>25080.03</td>\n",
       "      <td>239</td>\n",
       "      <td>104.937364</td>\n",
       "      <td>Top</td>\n",
       "    </tr>\n",
       "    <tr>\n",
       "      <th>2</th>\n",
       "      <td>001e6ad469a905060d959994f1b41e4f</td>\n",
       "      <td>250.00</td>\n",
       "      <td>1</td>\n",
       "      <td>250.000000</td>\n",
       "      <td>Lower Mid</td>\n",
       "    </tr>\n",
       "    <tr>\n",
       "      <th>3</th>\n",
       "      <td>002100f778ceb8431b7a1020ff7ab48f</td>\n",
       "      <td>1234.50</td>\n",
       "      <td>55</td>\n",
       "      <td>22.445455</td>\n",
       "      <td>Upper Mid</td>\n",
       "    </tr>\n",
       "    <tr>\n",
       "      <th>4</th>\n",
       "      <td>003554e2dce176b5555353e4f3555ac8</td>\n",
       "      <td>120.00</td>\n",
       "      <td>1</td>\n",
       "      <td>120.000000</td>\n",
       "      <td>Bottom</td>\n",
       "    </tr>\n",
       "  </tbody>\n",
       "</table>\n",
       "</div>"
      ],
      "text/plain": [
       "                          seller_id  total_revenue  total_orders  \\\n",
       "0  0015a82c2db000af6aaaf3ae2ecb0532        2685.00             3   \n",
       "1  001cca7ae9ae17fb1caed9dfb1094831       25080.03           239   \n",
       "2  001e6ad469a905060d959994f1b41e4f         250.00             1   \n",
       "3  002100f778ceb8431b7a1020ff7ab48f        1234.50            55   \n",
       "4  003554e2dce176b5555353e4f3555ac8         120.00             1   \n",
       "\n",
       "   avg_order_value    segment  \n",
       "0       895.000000  Upper Mid  \n",
       "1       104.937364        Top  \n",
       "2       250.000000  Lower Mid  \n",
       "3        22.445455  Upper Mid  \n",
       "4       120.000000     Bottom  "
      ]
     },
     "execution_count": 123,
     "metadata": {},
     "output_type": "execute_result"
    }
   ],
   "source": [
    "seller_performance.head()"
   ]
  },
  {
   "cell_type": "code",
   "execution_count": 133,
   "id": "82c537aa",
   "metadata": {},
   "outputs": [],
   "source": [
    "# Analyze metrics by segment\n",
    "segment_analysis = seller_performance.groupby('segment', observed=True).agg({\n",
    "    'total_revenue': ['count', 'mean', 'sum'],\n",
    "    'total_orders': ['mean', 'sum'],\n",
    "    'avg_order_value': 'mean'\n",
    "})"
   ]
  },
  {
   "cell_type": "code",
   "execution_count": 134,
   "id": "f88e7e60",
   "metadata": {},
   "outputs": [
    {
     "data": {
      "text/html": [
       "<div>\n",
       "<style scoped>\n",
       "    .dataframe tbody tr th:only-of-type {\n",
       "        vertical-align: middle;\n",
       "    }\n",
       "\n",
       "    .dataframe tbody tr th {\n",
       "        vertical-align: top;\n",
       "    }\n",
       "\n",
       "    .dataframe thead tr th {\n",
       "        text-align: left;\n",
       "    }\n",
       "\n",
       "    .dataframe thead tr:last-of-type th {\n",
       "        text-align: right;\n",
       "    }\n",
       "</style>\n",
       "<table border=\"1\" class=\"dataframe\">\n",
       "  <thead>\n",
       "    <tr>\n",
       "      <th></th>\n",
       "      <th colspan=\"3\" halign=\"left\">total_revenue</th>\n",
       "      <th colspan=\"2\" halign=\"left\">total_orders</th>\n",
       "      <th>avg_order_value</th>\n",
       "    </tr>\n",
       "    <tr>\n",
       "      <th></th>\n",
       "      <th>count</th>\n",
       "      <th>mean</th>\n",
       "      <th>sum</th>\n",
       "      <th>mean</th>\n",
       "      <th>sum</th>\n",
       "      <th>mean</th>\n",
       "    </tr>\n",
       "    <tr>\n",
       "      <th>segment</th>\n",
       "      <th></th>\n",
       "      <th></th>\n",
       "      <th></th>\n",
       "      <th></th>\n",
       "      <th></th>\n",
       "      <th></th>\n",
       "    </tr>\n",
       "  </thead>\n",
       "  <tbody>\n",
       "    <tr>\n",
       "      <th>Bottom</th>\n",
       "      <td>774</td>\n",
       "      <td>101.321912</td>\n",
       "      <td>78423.16</td>\n",
       "      <td>2.072351</td>\n",
       "      <td>1604</td>\n",
       "      <td>63.516350</td>\n",
       "    </tr>\n",
       "    <tr>\n",
       "      <th>Lower Mid</th>\n",
       "      <td>774</td>\n",
       "      <td>464.165879</td>\n",
       "      <td>359264.39</td>\n",
       "      <td>6.282946</td>\n",
       "      <td>4863</td>\n",
       "      <td>131.189098</td>\n",
       "    </tr>\n",
       "    <tr>\n",
       "      <th>Upper Mid</th>\n",
       "      <td>773</td>\n",
       "      <td>1701.642885</td>\n",
       "      <td>1315369.95</td>\n",
       "      <td>17.336352</td>\n",
       "      <td>13401</td>\n",
       "      <td>209.284770</td>\n",
       "    </tr>\n",
       "    <tr>\n",
       "      <th>High</th>\n",
       "      <td>464</td>\n",
       "      <td>5722.869483</td>\n",
       "      <td>2655411.44</td>\n",
       "      <td>53.310345</td>\n",
       "      <td>24736</td>\n",
       "      <td>301.232697</td>\n",
       "    </tr>\n",
       "    <tr>\n",
       "      <th>Top</th>\n",
       "      <td>310</td>\n",
       "      <td>29623.144387</td>\n",
       "      <td>9183174.76</td>\n",
       "      <td>219.503226</td>\n",
       "      <td>68046</td>\n",
       "      <td>301.532502</td>\n",
       "    </tr>\n",
       "  </tbody>\n",
       "</table>\n",
       "</div>"
      ],
      "text/plain": [
       "          total_revenue                           total_orders         \\\n",
       "                  count          mean         sum         mean    sum   \n",
       "segment                                                                 \n",
       "Bottom              774    101.321912    78423.16     2.072351   1604   \n",
       "Lower Mid           774    464.165879   359264.39     6.282946   4863   \n",
       "Upper Mid           773   1701.642885  1315369.95    17.336352  13401   \n",
       "High                464   5722.869483  2655411.44    53.310345  24736   \n",
       "Top                 310  29623.144387  9183174.76   219.503226  68046   \n",
       "\n",
       "          avg_order_value  \n",
       "                     mean  \n",
       "segment                    \n",
       "Bottom          63.516350  \n",
       "Lower Mid      131.189098  \n",
       "Upper Mid      209.284770  \n",
       "High           301.232697  \n",
       "Top            301.532502  "
      ]
     },
     "execution_count": 134,
     "metadata": {},
     "output_type": "execute_result"
    }
   ],
   "source": [
    "segment_analysis"
   ]
  },
  {
   "cell_type": "markdown",
   "id": "ebe5c0c6",
   "metadata": {},
   "source": [
    "Top sellers (310) are handling 68,046 orders. The average about 219.5 orders per seller for top sellers. Their average revenue per seller is about $29,623.   \n",
    "\n",
    "Their average order value is about $301.53.\n",
    "\n",
    "The average order value is more consistent across segments. This means the difference between segments is in order counts, not in average order values."
   ]
  },
  {
   "cell_type": "code",
   "execution_count": null,
   "id": "a6cadacf",
   "metadata": {},
   "outputs": [],
   "source": [
    "seller_performance"
   ]
  },
  {
   "cell_type": "code",
   "execution_count": 143,
   "id": "7448584a",
   "metadata": {},
   "outputs": [
    {
     "data": {
      "text/plain": [
       "count    3.095000e+03\n",
       "mean     3.761314e+04\n",
       "sum      1.359164e+07\n",
       "dtype: float64"
      ]
     },
     "execution_count": 143,
     "metadata": {},
     "output_type": "execute_result"
    }
   ],
   "source": [
    "total_rev_per_segment = segment_analysis['total_revenue'].sum()\n",
    "total_rev_per_segment"
   ]
  },
  {
   "cell_type": "code",
   "execution_count": 145,
   "id": "bf50c4bc",
   "metadata": {},
   "outputs": [
    {
     "data": {
      "text/plain": [
       "segment\n",
       "Bottom        0.576995\n",
       "Lower Mid     2.643274\n",
       "Upper Mid     9.677784\n",
       "High         19.537088\n",
       "Top          67.564858\n",
       "Name: sum, dtype: float64"
      ]
     },
     "execution_count": 145,
     "metadata": {},
     "output_type": "execute_result"
    }
   ],
   "source": [
    "# Calculate the percentage of total revenue for each segment.\n",
    "segment_orders_percentage = (segment_analysis['total_revenue']['sum'] / (segment_analysis['total_revenue']['sum'].sum())) * 100\n",
    "segment_orders_percentage"
   ]
  },
  {
   "cell_type": "markdown",
   "id": "1978813d",
   "metadata": {},
   "source": [
    "80% of the total revenue comes from the high and top segments."
   ]
  },
  {
   "cell_type": "code",
   "execution_count": 146,
   "id": "27234e01",
   "metadata": {},
   "outputs": [
    {
     "data": {
      "text/plain": [
       "segment\n",
       "Bottom        1.423879\n",
       "Lower Mid     4.316911\n",
       "Upper Mid    11.896138\n",
       "High         21.958278\n",
       "Top          60.404794\n",
       "Name: sum, dtype: float64"
      ]
     },
     "execution_count": 146,
     "metadata": {},
     "output_type": "execute_result"
    }
   ],
   "source": [
    "# Calculate the percentage of total orders for each segment.\n",
    "segment_orders_percentage = (segment_analysis['total_orders']['sum'] / (segment_analysis['total_orders']['sum'].sum())) * 100\n",
    "segment_orders_percentage"
   ]
  },
  {
   "cell_type": "code",
   "execution_count": 147,
   "id": "723aaa66",
   "metadata": {},
   "outputs": [],
   "source": [
    "# Add a new 'segment' column to the main dataset.\n",
    "items_products_sellers = items_products_sellers.merge(seller_performance[['seller_id', 'segment']], \n",
    "              on='seller_id',\n",
    "              how='left')"
   ]
  },
  {
   "cell_type": "code",
   "execution_count": 148,
   "id": "d4982d05",
   "metadata": {
    "scrolled": true
   },
   "outputs": [
    {
     "name": "stdout",
     "output_type": "stream",
     "text": [
      "<class 'pandas.core.frame.DataFrame'>\n",
      "RangeIndex: 112650 entries, 0 to 112649\n",
      "Data columns (total 9 columns):\n",
      " #   Column                         Non-Null Count   Dtype   \n",
      "---  ------                         --------------   -----   \n",
      " 0   order_id                       112650 non-null  object  \n",
      " 1   seller_id                      112650 non-null  object  \n",
      " 2   shipping_limit_date            112650 non-null  object  \n",
      " 3   price                          112650 non-null  float64 \n",
      " 4   freight_value                  112650 non-null  float64 \n",
      " 5   product_weight_g               112632 non-null  float64 \n",
      " 6   product_category_name_english  111047 non-null  object  \n",
      " 7   seller_state                   112650 non-null  object  \n",
      " 8   segment                        112650 non-null  category\n",
      "dtypes: category(1), float64(3), object(5)\n",
      "memory usage: 7.0+ MB\n"
     ]
    }
   ],
   "source": [
    "items_products_sellers.info()"
   ]
  },
  {
   "cell_type": "code",
   "execution_count": 149,
   "id": "ddd5054a",
   "metadata": {},
   "outputs": [],
   "source": [
    "# Merging two separately merged datasets into a final combined dataset\n",
    "# Initially, multiple datasets were merged into two main datasets for analysis.\n",
    "# Now, these two datasets are merged together to create a final unified dataset.\n",
    "merged_df = order_customer_payment.merge(\n",
    "    items_products_sellers,\n",
    "    on='order_id',\n",
    "    how='left')"
   ]
  },
  {
   "cell_type": "code",
   "execution_count": 150,
   "id": "f50603a2",
   "metadata": {},
   "outputs": [
    {
     "name": "stdout",
     "output_type": "stream",
     "text": [
      "<class 'pandas.core.frame.DataFrame'>\n",
      "RangeIndex: 110185 entries, 0 to 110184\n",
      "Data columns (total 23 columns):\n",
      " #   Column                         Non-Null Count   Dtype         \n",
      "---  ------                         --------------   -----         \n",
      " 0   order_id                       110185 non-null  object        \n",
      " 1   customer_id                    110185 non-null  object        \n",
      " 2   order_purchase_timestamp       110185 non-null  datetime64[ns]\n",
      " 3   order_delivered_carrier_date   110185 non-null  datetime64[ns]\n",
      " 4   order_delivered_customer_date  110185 non-null  datetime64[ns]\n",
      " 5   order_estimated_delivery_date  110185 non-null  datetime64[ns]\n",
      " 6   customer_unique_id             110185 non-null  object        \n",
      " 7   customer_state                 110185 non-null  object        \n",
      " 8   payment_type                   110185 non-null  object        \n",
      " 9   payment_value                  110185 non-null  float64       \n",
      " 10  payment_installments           110185 non-null  int64         \n",
      " 11  payment_sequential             110185 non-null  int64         \n",
      " 12  delivery_days                  110185 non-null  int64         \n",
      " 13  estimated_days                 110185 non-null  int64         \n",
      " 14  estimated_vs_actual_diff       110185 non-null  int64         \n",
      " 15  seller_id                      110185 non-null  object        \n",
      " 16  shipping_limit_date            110185 non-null  object        \n",
      " 17  price                          110185 non-null  float64       \n",
      " 18  freight_value                  110185 non-null  float64       \n",
      " 19  product_weight_g               110167 non-null  float64       \n",
      " 20  product_category_name_english  108648 non-null  object        \n",
      " 21  seller_state                   110185 non-null  object        \n",
      " 22  segment                        110185 non-null  category      \n",
      "dtypes: category(1), datetime64[ns](4), float64(4), int64(5), object(9)\n",
      "memory usage: 18.6+ MB\n"
     ]
    }
   ],
   "source": [
    "merged_df.info()"
   ]
  },
  {
   "cell_type": "code",
   "execution_count": 151,
   "id": "b8cd5f5c",
   "metadata": {},
   "outputs": [
    {
     "data": {
      "text/plain": [
       "Index(['order_id', 'customer_id', 'order_purchase_timestamp',\n",
       "       'order_delivered_carrier_date', 'order_delivered_customer_date',\n",
       "       'order_estimated_delivery_date', 'customer_unique_id', 'customer_state',\n",
       "       'payment_type', 'payment_value', 'payment_installments',\n",
       "       'payment_sequential', 'delivery_days', 'estimated_days',\n",
       "       'estimated_vs_actual_diff', 'seller_id', 'shipping_limit_date', 'price',\n",
       "       'freight_value', 'product_weight_g', 'product_category_name_english',\n",
       "       'seller_state', 'segment'],\n",
       "      dtype='object')"
      ]
     },
     "execution_count": 151,
     "metadata": {},
     "output_type": "execute_result"
    }
   ],
   "source": [
    "merged_df.columns"
   ]
  },
  {
   "cell_type": "code",
   "execution_count": 161,
   "id": "4b9875bd",
   "metadata": {},
   "outputs": [
    {
     "name": "stdout",
     "output_type": "stream",
     "text": [
      "<class 'pandas.core.frame.DataFrame'>\n",
      "RangeIndex: 110185 entries, 0 to 110184\n",
      "Data columns (total 12 columns):\n",
      " #   Column                         Non-Null Count   Dtype   \n",
      "---  ------                         --------------   -----   \n",
      " 0   order_id                       110185 non-null  object  \n",
      " 1   customer_id                    110185 non-null  object  \n",
      " 2   customer_unique_id             110185 non-null  object  \n",
      " 3   seller_id                      110185 non-null  object  \n",
      " 4   product_weight_g               110167 non-null  float64 \n",
      " 5   product_category_name_english  108648 non-null  object  \n",
      " 6   price                          110185 non-null  float64 \n",
      " 7   freight_value                  110185 non-null  float64 \n",
      " 8   seller_state                   110185 non-null  object  \n",
      " 9   customer_state                 110185 non-null  object  \n",
      " 10  delivery_days                  110185 non-null  int64   \n",
      " 11  segment                        110185 non-null  category\n",
      "dtypes: category(1), float64(3), int64(1), object(7)\n",
      "memory usage: 9.4+ MB\n"
     ]
    }
   ],
   "source": [
    "columns_ = ['order_id', 'customer_id', 'customer_unique_id', 'seller_id', 'product_weight_g','product_category_name_english', \n",
    "            'price', 'freight_value','seller_state', 'customer_state','delivery_days', 'segment'] \n",
    "\n",
    "merged = merged_df[columns_]\n",
    "\n",
    "merged.info()"
   ]
  },
  {
   "cell_type": "code",
   "execution_count": 156,
   "id": "1166e8c9",
   "metadata": {},
   "outputs": [
    {
     "name": "stdout",
     "output_type": "stream",
     "text": [
      "1537\n"
     ]
    },
    {
     "data": {
      "text/plain": [
       "seller_id\n",
       "c826c40d7b19f62a09e2d7c5e7295ee2    364\n",
       "e5a3438891c0bfdb9394643f95273d8e     88\n",
       "1ca7077d890b907f89be8c954a02686a     77\n",
       "46dc3b2cc0980fb8ec44634e21d2718e     38\n",
       "0c8380b62e38e8a1e6adbeba7eb9688c     31\n",
       "fc906263ca5083d09dce42fe02247800     29\n",
       "7e26c750b4cb9f6766f58265ff9ebe95     24\n",
       "520b493b57809f446cb0a233bb3e25c7     23\n",
       "3771c85bac139d2344864ede5d9341e3     22\n",
       "dd7ddc04e1b6c2c614352b383efe2d36     21\n",
       "15cd6eefe58588619aaed41dfa6621b1     18\n",
       "4e922959ae960d389249c378d1c939f5     17\n",
       "d66c305afaec317ebee552073a674429     15\n",
       "e26901d5ab434ce92fd9b5c256820a4e     15\n",
       "325f3178fb58e2a9778334621eecdbf9     14\n",
       "63ffcb71394dd8ea3872ed9ffda17c74     14\n",
       "99eaacc9e6046db1c82b163c5f84869f     13\n",
       "b74d1c09cb380e1d03a6f859c6f4224b     13\n",
       "42fa4ee7240e9b8eb4576358ec142ba7     13\n",
       "004c9cd9d87a3c30c522c48c4fc07416     12\n",
       "Name: count, dtype: int64"
      ]
     },
     "execution_count": 156,
     "metadata": {},
     "output_type": "execute_result"
    }
   ],
   "source": [
    "category_name_null = merged[merged['product_category_name_english'].isna()]\n",
    "print(len(category_name_null))\n",
    "category_name_null['seller_id'].value_counts().head(20)"
   ]
  },
  {
   "cell_type": "code",
   "execution_count": 160,
   "id": "20b0dd9b",
   "metadata": {},
   "outputs": [
    {
     "data": {
      "text/plain": [
       "product_category_name_english\n",
       "bed_bath_table              10953\n",
       "health_beauty                9462\n",
       "sports_leisure               8430\n",
       "furniture_decor              8159\n",
       "computers_accessories        7643\n",
       "housewares                   6795\n",
       "watches_gifts                5857\n",
       "telephony                    4430\n",
       "garden_tools                 4268\n",
       "auto                         4139\n",
       "toys                         4029\n",
       "cool_stuff                   3718\n",
       "perfumery                    3340\n",
       "baby                         2982\n",
       "electronics                  2729\n",
       "stationery                   2466\n",
       "fashion_bags_accessories     1985\n",
       "pet_shop                     1924\n",
       "office_furniture             1668\n",
       "consoles_games               1089\n",
       "Name: count, dtype: int64"
      ]
     },
     "execution_count": 160,
     "metadata": {},
     "output_type": "execute_result"
    }
   ],
   "source": [
    "merged['product_category_name_english'].value_counts().head(20)"
   ]
  },
  {
   "cell_type": "code",
   "execution_count": null,
   "id": "6659a57a",
   "metadata": {},
   "outputs": [],
   "source": []
  }
 ],
 "metadata": {
  "kernelspec": {
   "display_name": "Python 3 (ipykernel)",
   "language": "python",
   "name": "python3"
  },
  "language_info": {
   "codemirror_mode": {
    "name": "ipython",
    "version": 3
   },
   "file_extension": ".py",
   "mimetype": "text/x-python",
   "name": "python",
   "nbconvert_exporter": "python",
   "pygments_lexer": "ipython3",
   "version": "3.11.7"
  }
 },
 "nbformat": 4,
 "nbformat_minor": 5
}
